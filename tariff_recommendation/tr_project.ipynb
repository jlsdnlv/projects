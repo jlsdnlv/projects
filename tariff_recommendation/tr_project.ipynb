{
 "cells": [
  {
   "cell_type": "markdown",
   "metadata": {},
   "source": [
    "# Рекомендация тарифов"
   ]
  },
  {
   "cell_type": "markdown",
   "metadata": {},
   "source": [
    "## Выгрузка данных и изучение общей информации"
   ]
  },
  {
   "cell_type": "markdown",
   "metadata": {},
   "source": [
    "### Импорт библиотек и загрузка данных"
   ]
  },
  {
   "cell_type": "code",
   "execution_count": 1,
   "metadata": {},
   "outputs": [],
   "source": [
    "import pandas as pd\n",
    "import matplotlib.pyplot as plt\n",
    "import seaborn as sns\n",
    "\n",
    "from tqdm import tqdm\n",
    "from sklearn.model_selection import train_test_split\n",
    "from sklearn.metrics import accuracy_score, precision_score, recall_score, f1_score, confusion_matrix, ConfusionMatrixDisplay\n",
    "from sklearn.tree import DecisionTreeClassifier, plot_tree\n",
    "from sklearn.ensemble import RandomForestClassifier\n",
    "from sklearn.linear_model import LogisticRegression\n",
    "from sklearn.dummy import DummyClassifier"
   ]
  },
  {
   "cell_type": "code",
   "execution_count": 2,
   "metadata": {},
   "outputs": [],
   "source": [
    "df = pd.read_csv(r'C:\\Users\\HuaweiMatebook\\jupyternotebooks\\users_behavior.csv')"
   ]
  },
  {
   "cell_type": "markdown",
   "metadata": {},
   "source": [
    "### Первичный осмотр данных"
   ]
  },
  {
   "cell_type": "markdown",
   "metadata": {},
   "source": [
    "Первые 10 строк датафрейма:"
   ]
  },
  {
   "cell_type": "code",
   "execution_count": 3,
   "metadata": {
    "scrolled": true
   },
   "outputs": [
    {
     "data": {
      "text/html": [
       "<div>\n",
       "<style scoped>\n",
       "    .dataframe tbody tr th:only-of-type {\n",
       "        vertical-align: middle;\n",
       "    }\n",
       "\n",
       "    .dataframe tbody tr th {\n",
       "        vertical-align: top;\n",
       "    }\n",
       "\n",
       "    .dataframe thead th {\n",
       "        text-align: right;\n",
       "    }\n",
       "</style>\n",
       "<table border=\"1\" class=\"dataframe\">\n",
       "  <thead>\n",
       "    <tr style=\"text-align: right;\">\n",
       "      <th></th>\n",
       "      <th>calls</th>\n",
       "      <th>minutes</th>\n",
       "      <th>messages</th>\n",
       "      <th>mb_used</th>\n",
       "      <th>is_ultra</th>\n",
       "    </tr>\n",
       "  </thead>\n",
       "  <tbody>\n",
       "    <tr>\n",
       "      <th>0</th>\n",
       "      <td>40.0</td>\n",
       "      <td>311.90</td>\n",
       "      <td>83.0</td>\n",
       "      <td>19915.42</td>\n",
       "      <td>0</td>\n",
       "    </tr>\n",
       "    <tr>\n",
       "      <th>1</th>\n",
       "      <td>85.0</td>\n",
       "      <td>516.75</td>\n",
       "      <td>56.0</td>\n",
       "      <td>22696.96</td>\n",
       "      <td>0</td>\n",
       "    </tr>\n",
       "    <tr>\n",
       "      <th>2</th>\n",
       "      <td>77.0</td>\n",
       "      <td>467.66</td>\n",
       "      <td>86.0</td>\n",
       "      <td>21060.45</td>\n",
       "      <td>0</td>\n",
       "    </tr>\n",
       "    <tr>\n",
       "      <th>3</th>\n",
       "      <td>106.0</td>\n",
       "      <td>745.53</td>\n",
       "      <td>81.0</td>\n",
       "      <td>8437.39</td>\n",
       "      <td>1</td>\n",
       "    </tr>\n",
       "    <tr>\n",
       "      <th>4</th>\n",
       "      <td>66.0</td>\n",
       "      <td>418.74</td>\n",
       "      <td>1.0</td>\n",
       "      <td>14502.75</td>\n",
       "      <td>0</td>\n",
       "    </tr>\n",
       "    <tr>\n",
       "      <th>5</th>\n",
       "      <td>58.0</td>\n",
       "      <td>344.56</td>\n",
       "      <td>21.0</td>\n",
       "      <td>15823.37</td>\n",
       "      <td>0</td>\n",
       "    </tr>\n",
       "    <tr>\n",
       "      <th>6</th>\n",
       "      <td>57.0</td>\n",
       "      <td>431.64</td>\n",
       "      <td>20.0</td>\n",
       "      <td>3738.90</td>\n",
       "      <td>1</td>\n",
       "    </tr>\n",
       "    <tr>\n",
       "      <th>7</th>\n",
       "      <td>15.0</td>\n",
       "      <td>132.40</td>\n",
       "      <td>6.0</td>\n",
       "      <td>21911.60</td>\n",
       "      <td>0</td>\n",
       "    </tr>\n",
       "    <tr>\n",
       "      <th>8</th>\n",
       "      <td>7.0</td>\n",
       "      <td>43.39</td>\n",
       "      <td>3.0</td>\n",
       "      <td>2538.67</td>\n",
       "      <td>1</td>\n",
       "    </tr>\n",
       "    <tr>\n",
       "      <th>9</th>\n",
       "      <td>90.0</td>\n",
       "      <td>665.41</td>\n",
       "      <td>38.0</td>\n",
       "      <td>17358.61</td>\n",
       "      <td>0</td>\n",
       "    </tr>\n",
       "  </tbody>\n",
       "</table>\n",
       "</div>"
      ],
      "text/plain": [
       "   calls  minutes  messages   mb_used  is_ultra\n",
       "0   40.0   311.90      83.0  19915.42         0\n",
       "1   85.0   516.75      56.0  22696.96         0\n",
       "2   77.0   467.66      86.0  21060.45         0\n",
       "3  106.0   745.53      81.0   8437.39         1\n",
       "4   66.0   418.74       1.0  14502.75         0\n",
       "5   58.0   344.56      21.0  15823.37         0\n",
       "6   57.0   431.64      20.0   3738.90         1\n",
       "7   15.0   132.40       6.0  21911.60         0\n",
       "8    7.0    43.39       3.0   2538.67         1\n",
       "9   90.0   665.41      38.0  17358.61         0"
      ]
     },
     "execution_count": 3,
     "metadata": {},
     "output_type": "execute_result"
    }
   ],
   "source": [
    "df.head(10)"
   ]
  },
  {
   "cell_type": "markdown",
   "metadata": {},
   "source": [
    "Общая информация о датафрейме:"
   ]
  },
  {
   "cell_type": "code",
   "execution_count": 4,
   "metadata": {
    "scrolled": false
   },
   "outputs": [
    {
     "name": "stdout",
     "output_type": "stream",
     "text": [
      "<class 'pandas.core.frame.DataFrame'>\n",
      "RangeIndex: 3214 entries, 0 to 3213\n",
      "Data columns (total 5 columns):\n",
      " #   Column    Non-Null Count  Dtype  \n",
      "---  ------    --------------  -----  \n",
      " 0   calls     3214 non-null   float64\n",
      " 1   minutes   3214 non-null   float64\n",
      " 2   messages  3214 non-null   float64\n",
      " 3   mb_used   3214 non-null   float64\n",
      " 4   is_ultra  3214 non-null   int64  \n",
      "dtypes: float64(4), int64(1)\n",
      "memory usage: 125.7 KB\n"
     ]
    }
   ],
   "source": [
    "df.info()"
   ]
  },
  {
   "cell_type": "markdown",
   "metadata": {},
   "source": [
    "Количественное описание данных датафрейма:"
   ]
  },
  {
   "cell_type": "code",
   "execution_count": 5,
   "metadata": {
    "scrolled": true
   },
   "outputs": [
    {
     "data": {
      "text/html": [
       "<div>\n",
       "<style scoped>\n",
       "    .dataframe tbody tr th:only-of-type {\n",
       "        vertical-align: middle;\n",
       "    }\n",
       "\n",
       "    .dataframe tbody tr th {\n",
       "        vertical-align: top;\n",
       "    }\n",
       "\n",
       "    .dataframe thead th {\n",
       "        text-align: right;\n",
       "    }\n",
       "</style>\n",
       "<table border=\"1\" class=\"dataframe\">\n",
       "  <thead>\n",
       "    <tr style=\"text-align: right;\">\n",
       "      <th></th>\n",
       "      <th>count</th>\n",
       "      <th>mean</th>\n",
       "      <th>std</th>\n",
       "      <th>min</th>\n",
       "      <th>25%</th>\n",
       "      <th>50%</th>\n",
       "      <th>75%</th>\n",
       "      <th>max</th>\n",
       "    </tr>\n",
       "  </thead>\n",
       "  <tbody>\n",
       "    <tr>\n",
       "      <th>calls</th>\n",
       "      <td>3214.0</td>\n",
       "      <td>63.038892</td>\n",
       "      <td>33.236368</td>\n",
       "      <td>0.0</td>\n",
       "      <td>40.0000</td>\n",
       "      <td>62.000</td>\n",
       "      <td>82.0000</td>\n",
       "      <td>244.00</td>\n",
       "    </tr>\n",
       "    <tr>\n",
       "      <th>minutes</th>\n",
       "      <td>3214.0</td>\n",
       "      <td>438.208787</td>\n",
       "      <td>234.569872</td>\n",
       "      <td>0.0</td>\n",
       "      <td>274.5750</td>\n",
       "      <td>430.600</td>\n",
       "      <td>571.9275</td>\n",
       "      <td>1632.06</td>\n",
       "    </tr>\n",
       "    <tr>\n",
       "      <th>messages</th>\n",
       "      <td>3214.0</td>\n",
       "      <td>38.281269</td>\n",
       "      <td>36.148326</td>\n",
       "      <td>0.0</td>\n",
       "      <td>9.0000</td>\n",
       "      <td>30.000</td>\n",
       "      <td>57.0000</td>\n",
       "      <td>224.00</td>\n",
       "    </tr>\n",
       "    <tr>\n",
       "      <th>mb_used</th>\n",
       "      <td>3214.0</td>\n",
       "      <td>17207.673836</td>\n",
       "      <td>7570.968246</td>\n",
       "      <td>0.0</td>\n",
       "      <td>12491.9025</td>\n",
       "      <td>16943.235</td>\n",
       "      <td>21424.7000</td>\n",
       "      <td>49745.73</td>\n",
       "    </tr>\n",
       "    <tr>\n",
       "      <th>is_ultra</th>\n",
       "      <td>3214.0</td>\n",
       "      <td>0.306472</td>\n",
       "      <td>0.461100</td>\n",
       "      <td>0.0</td>\n",
       "      <td>0.0000</td>\n",
       "      <td>0.000</td>\n",
       "      <td>1.0000</td>\n",
       "      <td>1.00</td>\n",
       "    </tr>\n",
       "  </tbody>\n",
       "</table>\n",
       "</div>"
      ],
      "text/plain": [
       "           count          mean          std  min         25%        50%  \\\n",
       "calls     3214.0     63.038892    33.236368  0.0     40.0000     62.000   \n",
       "minutes   3214.0    438.208787   234.569872  0.0    274.5750    430.600   \n",
       "messages  3214.0     38.281269    36.148326  0.0      9.0000     30.000   \n",
       "mb_used   3214.0  17207.673836  7570.968246  0.0  12491.9025  16943.235   \n",
       "is_ultra  3214.0      0.306472     0.461100  0.0      0.0000      0.000   \n",
       "\n",
       "                 75%       max  \n",
       "calls        82.0000    244.00  \n",
       "minutes     571.9275   1632.06  \n",
       "messages     57.0000    224.00  \n",
       "mb_used   21424.7000  49745.73  \n",
       "is_ultra      1.0000      1.00  "
      ]
     },
     "execution_count": 5,
     "metadata": {},
     "output_type": "execute_result"
    }
   ],
   "source": [
    "df.describe().T"
   ]
  },
  {
   "cell_type": "markdown",
   "metadata": {},
   "source": [
    "Итак, в таблице 5 столбцов и 3214 строк. В данных нет пропущенных значений. Каждый объект в наборе данных — это информация о поведении одного пользователя за месяц."
   ]
  },
  {
   "cell_type": "markdown",
   "metadata": {},
   "source": [
    "В нашей задаче целевым признаком является столбец `is_ultra`. Целевой признак - категориальный, значит решается задача классификации, а именно, бинарной классификации."
   ]
  },
  {
   "cell_type": "code",
   "execution_count": 6,
   "metadata": {
    "scrolled": true
   },
   "outputs": [
    {
     "data": {
      "text/plain": [
       "is_ultra\n",
       "0    2229\n",
       "1     985\n",
       "Name: count, dtype: int64"
      ]
     },
     "execution_count": 6,
     "metadata": {},
     "output_type": "execute_result"
    }
   ],
   "source": [
    "# Проверим датасет на сбалансированность классов в целевом признаке. Посчитаем количество экземпляров каждого класса\n",
    "class_counts = df['is_ultra'].value_counts()\n",
    "class_counts"
   ]
  },
  {
   "cell_type": "code",
   "execution_count": 7,
   "metadata": {
    "scrolled": true
   },
   "outputs": [
    {
     "data": {
      "image/png": "[encoded data removed]",
      "text/plain": [
       "<Figure size 500x300 with 1 Axes>"
      ]
     },
     "metadata": {},
     "output_type": "display_data"
    }
   ],
   "source": [
    "# Отобразим распределение классов на графике, чтобы визуально оценить сбалансированность\n",
    "plt.figure(figsize=(5, 3))\n",
    "sns.barplot(data=df, x=class_counts.index, y=class_counts.values)\n",
    "plt.xlabel('Тариф')\n",
    "plt.ylabel('Количество')\n",
    "plt.title('Распределение классов в целевом признаке')\n",
    "plt.xticks([0, 1])\n",
    "plt.show()"
   ]
  },
  {
   "cell_type": "markdown",
   "metadata": {},
   "source": [
    "Получился несбалансированный датасет, так как количество экземпляров класса 0 значительно больше, чем количество экземпляров класса 1."
   ]
  },
  {
   "cell_type": "markdown",
   "metadata": {},
   "source": [
    "**Корреляция признаков**"
   ]
  },
  {
   "cell_type": "code",
   "execution_count": 8,
   "metadata": {
    "scrolled": false
   },
   "outputs": [
    {
     "data": {
      "text/html": [
       "<div>\n",
       "<style scoped>\n",
       "    .dataframe tbody tr th:only-of-type {\n",
       "        vertical-align: middle;\n",
       "    }\n",
       "\n",
       "    .dataframe tbody tr th {\n",
       "        vertical-align: top;\n",
       "    }\n",
       "\n",
       "    .dataframe thead th {\n",
       "        text-align: right;\n",
       "    }\n",
       "</style>\n",
       "<table border=\"1\" class=\"dataframe\">\n",
       "  <thead>\n",
       "    <tr style=\"text-align: right;\">\n",
       "      <th></th>\n",
       "      <th>calls</th>\n",
       "      <th>minutes</th>\n",
       "      <th>messages</th>\n",
       "      <th>mb_used</th>\n",
       "      <th>is_ultra</th>\n",
       "    </tr>\n",
       "  </thead>\n",
       "  <tbody>\n",
       "    <tr>\n",
       "      <th>calls</th>\n",
       "      <td>1.000000</td>\n",
       "      <td>0.982083</td>\n",
       "      <td>0.177385</td>\n",
       "      <td>0.286442</td>\n",
       "      <td>0.207122</td>\n",
       "    </tr>\n",
       "    <tr>\n",
       "      <th>minutes</th>\n",
       "      <td>0.982083</td>\n",
       "      <td>1.000000</td>\n",
       "      <td>0.173110</td>\n",
       "      <td>0.280967</td>\n",
       "      <td>0.206955</td>\n",
       "    </tr>\n",
       "    <tr>\n",
       "      <th>messages</th>\n",
       "      <td>0.177385</td>\n",
       "      <td>0.173110</td>\n",
       "      <td>1.000000</td>\n",
       "      <td>0.195721</td>\n",
       "      <td>0.203830</td>\n",
       "    </tr>\n",
       "    <tr>\n",
       "      <th>mb_used</th>\n",
       "      <td>0.286442</td>\n",
       "      <td>0.280967</td>\n",
       "      <td>0.195721</td>\n",
       "      <td>1.000000</td>\n",
       "      <td>0.198568</td>\n",
       "    </tr>\n",
       "    <tr>\n",
       "      <th>is_ultra</th>\n",
       "      <td>0.207122</td>\n",
       "      <td>0.206955</td>\n",
       "      <td>0.203830</td>\n",
       "      <td>0.198568</td>\n",
       "      <td>1.000000</td>\n",
       "    </tr>\n",
       "  </tbody>\n",
       "</table>\n",
       "</div>"
      ],
      "text/plain": [
       "             calls   minutes  messages   mb_used  is_ultra\n",
       "calls     1.000000  0.982083  0.177385  0.286442  0.207122\n",
       "minutes   0.982083  1.000000  0.173110  0.280967  0.206955\n",
       "messages  0.177385  0.173110  1.000000  0.195721  0.203830\n",
       "mb_used   0.286442  0.280967  0.195721  1.000000  0.198568\n",
       "is_ultra  0.207122  0.206955  0.203830  0.198568  1.000000"
      ]
     },
     "execution_count": 8,
     "metadata": {},
     "output_type": "execute_result"
    }
   ],
   "source": [
    "# Посмотрим на матрицу корреляции признаков\n",
    "df.corr()"
   ]
  },
  {
   "cell_type": "code",
   "execution_count": 9,
   "metadata": {},
   "outputs": [
    {
     "data": {
      "image/png": "[encoded data removed]",
      "text/plain": [
       "<Figure size 600x400 with 2 Axes>"
      ]
     },
     "metadata": {},
     "output_type": "display_data"
    }
   ],
   "source": [
    "# Построим тепловую карту, чтобы визуально оценить силу и направление корреляции между признаками.\n",
    "plt.figure(figsize=(6, 4))\n",
    "sns.heatmap(df.corr(), annot=True, cmap='coolwarm')\n",
    "plt.title('Матрица корреляции признаков')\n",
    "plt.show()"
   ]
  },
  {
   "cell_type": "markdown",
   "metadata": {},
   "source": [
    "Количество звонков `calls` и суммарная длительность звонков `minutes` имеют очень высокую корреляцию, что логично, так как длительность звонков напрямую связана с их количеством. Остальные признаки имеют некоторую корреляцию, но она не очень высокая.\n",
    "\n",
    "В целом, матрица корреляции показывает, что признаки не сильно коррелируют между собой (кроме `calls` и `minutes`) и с целевым признаком. Это хорошо для построения модели, так как сильной мультиколлинеарности не будет."
   ]
  },
  {
   "cell_type": "markdown",
   "metadata": {},
   "source": [
    "## Разделение данных на выборки"
   ]
  },
  {
   "cell_type": "code",
   "execution_count": 10,
   "metadata": {},
   "outputs": [],
   "source": [
    "# Для равномерного распределения количества классов в наборе данных определим переменные с признаками и целевым признаком\n",
    "X = df.drop('is_ultra', axis=1)\n",
    "y = df['is_ultra']"
   ]
  },
  {
   "cell_type": "markdown",
   "metadata": {},
   "source": [
    "Для начала исходные данные разделим на две выборки: обучающую и временную. При этом распределение классов сохраняется во всех выборках."
   ]
  },
  {
   "cell_type": "code",
   "execution_count": 11,
   "metadata": {},
   "outputs": [],
   "source": [
    "features_train, features_temp, target_train, target_temp = train_test_split(X, y, test_size=0.4, random_state=12345, \n",
    "                                                                            stratify=y)"
   ]
  },
  {
   "cell_type": "markdown",
   "metadata": {},
   "source": [
    "Теперь временную выборку разделим поровну на валидационную и тестовую."
   ]
  },
  {
   "cell_type": "code",
   "execution_count": 12,
   "metadata": {},
   "outputs": [],
   "source": [
    "features_valid, features_test, target_valid, target_test = train_test_split(features_temp, target_temp, test_size=0.5,\n",
    "                                                                            random_state=12345, stratify=target_temp)"
   ]
  },
  {
   "cell_type": "markdown",
   "metadata": {},
   "source": [
    "Выведем размеры получившихся выборок:"
   ]
  },
  {
   "cell_type": "code",
   "execution_count": 13,
   "metadata": {
    "scrolled": true
   },
   "outputs": [
    {
     "name": "stdout",
     "output_type": "stream",
     "text": [
      "Размер обучающей выборки: (1928, 4)\n",
      "Размер валидационной выборки: (643, 4)\n",
      "Размер тестовой выборки: (643, 4)\n"
     ]
    }
   ],
   "source": [
    "print('Размер обучающей выборки:', features_train.shape)\n",
    "print('Размер валидационной выборки:', features_valid.shape)\n",
    "print('Размер тестовой выборки:', features_test.shape)"
   ]
  },
  {
   "cell_type": "markdown",
   "metadata": {},
   "source": [
    "Таким образом, мы разбили исходные данные в соотношении 3:1:1 на обучающую, валидационную и тестовую выборки. "
   ]
  },
  {
   "cell_type": "markdown",
   "metadata": {},
   "source": [
    "## Исследование моделей"
   ]
  },
  {
   "cell_type": "markdown",
   "metadata": {},
   "source": [
    "Проверим 3 модели:\n",
    "- Решающее дерево\n",
    "- Случайный лес\n",
    "- Логистическая регрессия\n",
    "\n",
    "Качество работы будем оценивать метрикой качества - `accuracy`."
   ]
  },
  {
   "cell_type": "markdown",
   "metadata": {},
   "source": [
    "### Решающее дерево"
   ]
  },
  {
   "cell_type": "markdown",
   "metadata": {},
   "source": [
    "Самый важный гиперпараметр решающего дерева — `max_depth`.\n",
    "\n",
    "В цикле будем перебирать разные значения `max_depth` и сравнивать качество моделей в разных вариантах."
   ]
  },
  {
   "cell_type": "code",
   "execution_count": 14,
   "metadata": {},
   "outputs": [],
   "source": [
    "best_result_df = 0\n",
    "# Создадим списки, где будет сохраняться качество моделей при разных max_depth для построения графика\n",
    "accuracy_valid = []\n",
    "accuracy_train = []\n",
    "max_depth_list = list(range(1, 26))\n",
    "\n",
    "for depth in max_depth_list:\n",
    "    model_df = DecisionTreeClassifier(max_depth=depth, random_state=12345)\n",
    "    model_df.fit(features_train, target_train)\n",
    "    predictions_valid = model_df.predict(features_valid) # предсказаниеи модели на валидационной выборке\n",
    "    predictions_train = model_df.predict(features_train) # предсказание модели на обучающей выборке\n",
    "    result_valid = accuracy_score(target_valid, predictions_valid)\n",
    "    result_train = accuracy_score(target_train, predictions_train)\n",
    "    accuracy_valid.append(result_valid)\n",
    "    accuracy_train.append(result_train)    \n",
    "    if result_valid > best_result_df:\n",
    "        best_model_df = model_df\n",
    "        best_result_df = result_valid\n",
    "        best_depth_df = depth"
   ]
  },
  {
   "cell_type": "code",
   "execution_count": 15,
   "metadata": {},
   "outputs": [
    {
     "data": {
      "image/png": "[encoded data removed]",
      "text/plain": [
       "<Figure size 800x400 with 1 Axes>"
      ]
     },
     "metadata": {},
     "output_type": "display_data"
    }
   ],
   "source": [
    "# Построим график влияния max_depth на accuracy\n",
    "plt.figure(figsize=(8,4))\n",
    "plt.plot(max_depth_list, accuracy_train, label='обучающая', marker='o', ms=5)\n",
    "plt.plot(max_depth_list, accuracy_valid, label='валидационная', marker='o', ms=5)\n",
    "plt.legend()\n",
    "plt.xlabel('Максимальная глубина дерева')\n",
    "plt.ylabel('Доля правильных ответов')\n",
    "plt.title('Зависимость accuracy от максимальной глубины дерева')\n",
    "plt.grid(True)\n",
    "plt.show()"
   ]
  },
  {
   "cell_type": "markdown",
   "metadata": {},
   "source": [
    "Выведем результаты расчета с лучшим показателем `accuracy`:"
   ]
  },
  {
   "cell_type": "code",
   "execution_count": 16,
   "metadata": {
    "scrolled": false
   },
   "outputs": [
    {
     "name": "stdout",
     "output_type": "stream",
     "text": [
      "Максимальная глубина: 8\n",
      "Доля правильных ответов: 0.8\n"
     ]
    }
   ],
   "source": [
    "print('Максимальная глубина:', best_depth_df)\n",
    "print('Доля правильных ответов:', round(best_result_df, 2))"
   ]
  },
  {
   "cell_type": "markdown",
   "metadata": {},
   "source": [
    "При увеличении значения `max_depth` до определенного уровня, `accuracy` как на обучающей, так и на валидационной выборке увеличивается, что указывает на улучшение производительности модели. Оптимальная глубина дерева, при которой достигается наилучшая `accuracy` на валидационной выборке составляет 8. После достижения оптимального значения `max_depth`, увеличение этого гиперпараметра приводит к переобучению модели."
   ]
  },
  {
   "cell_type": "markdown",
   "metadata": {},
   "source": [
    "### Случайный лес"
   ]
  },
  {
   "cell_type": "markdown",
   "metadata": {},
   "source": [
    "Алгоритм обучает большое количество независимых друг от друга деревьев, а потом принимает решение на основе голосования."
   ]
  },
  {
   "cell_type": "markdown",
   "metadata": {},
   "source": [
    "Чтобы управлять количеством деревьев, прописывают гиперпараметр - `n_estimators`.\n",
    "\n",
    "Для лучшего качества будем в цикле перебирать разные значения `max_depth` и `n_estimators`."
   ]
  },
  {
   "cell_type": "code",
   "execution_count": 17,
   "metadata": {},
   "outputs": [
    {
     "name": "stderr",
     "output_type": "stream",
     "text": [
      "100%|████████████████████████████████████████████████████████████████████████████████████| 5/5 [00:06<00:00,  1.36s/it]\n"
     ]
    }
   ],
   "source": [
    "best_result_rf = 0\n",
    "\n",
    "for n_est in tqdm(range(10, 51, 10)):\n",
    "    for depth in range(1, 11):\n",
    "        model_rf = RandomForestClassifier(n_estimators=n_est, max_depth=depth, random_state=12345)\n",
    "        model_rf.fit(features_train, target_train)\n",
    "        predictions_valid = model_rf.predict(features_valid)\n",
    "        result = accuracy_score(target_valid, predictions_valid)\n",
    "        if result > best_result_rf:\n",
    "            best_model_rf = model_rf\n",
    "            best_result_rf = result\n",
    "            best_depth_rf = depth\n",
    "            best_n_est_rf = n_est"
   ]
  },
  {
   "cell_type": "markdown",
   "metadata": {},
   "source": [
    "Выведем результаты расчета с лучшим показателем `accuracy`:"
   ]
  },
  {
   "cell_type": "code",
   "execution_count": 18,
   "metadata": {
    "scrolled": true
   },
   "outputs": [
    {
     "name": "stdout",
     "output_type": "stream",
     "text": [
      "Количество деревьев: 40\n",
      "Максимальная глубина: 9\n",
      "Доля правильных ответов: 0.82\n"
     ]
    }
   ],
   "source": [
    "print('Количество деревьев:', best_n_est_rf)\n",
    "print('Максимальная глубина:', best_depth_rf)\n",
    "print('Доля правильных ответов:', round(best_result_rf, 2))"
   ]
  },
  {
   "cell_type": "markdown",
   "metadata": {},
   "source": [
    "### Логистическая регрессия"
   ]
  },
  {
   "cell_type": "markdown",
   "metadata": {},
   "source": [
    "Для решения задачи классификации также широко используется логистическая регрессия. Для настройки модели будем задавать следующие гиперпараметры:\n",
    "* `solver` - позволяет выбрать алгоритм, который будет строить модель. Алгоритм `lbfgs` — один из самых распространённых.\n",
    "* `max_iter` - этот гиперпараметр задаёт максимальное количество итераций обучения. Значение этого параметра по умолчанию равно 100."
   ]
  },
  {
   "cell_type": "code",
   "execution_count": 19,
   "metadata": {},
   "outputs": [],
   "source": [
    "model_lr = LogisticRegression(solver='lbfgs', max_iter=100, random_state=12345)\n",
    "model_lr.fit(features_train, target_train)\n",
    "predictions_valid = model_lr.predict(features_valid)\n",
    "result_lr = accuracy_score(target_valid, predictions_valid)  "
   ]
  },
  {
   "cell_type": "markdown",
   "metadata": {},
   "source": [
    "Выведем результат расчета:"
   ]
  },
  {
   "cell_type": "code",
   "execution_count": 20,
   "metadata": {},
   "outputs": [
    {
     "name": "stdout",
     "output_type": "stream",
     "text": [
      "Доля правильных ответов: 0.74\n"
     ]
    }
   ],
   "source": [
    "print('Доля правильных ответов:', round(result_lr,2))"
   ]
  },
  {
   "cell_type": "markdown",
   "metadata": {},
   "source": [
    "**Вывод**\n",
    "\n",
    "* Самое высокое качество у случайного леса: `accuracy` = 0.82.\n",
    "* На втором месте - дерево решений с `accuracy` = 0.80.\n",
    "* Самое низкое качество предсказания у логистической регрессии с `accuracy` = 0.74.\n",
    "\n",
    "Таким образом, далее будем работать с моделью случайного леса, которая показала наилучший результат по качеству работы."
   ]
  },
  {
   "cell_type": "markdown",
   "metadata": {},
   "source": [
    "## Проверка модели на тестовой выборке"
   ]
  },
  {
   "cell_type": "code",
   "execution_count": 21,
   "metadata": {},
   "outputs": [],
   "source": [
    "# Проверим модель на тестовой выборке\n",
    "predictions_test = best_model_rf.predict(features_test)"
   ]
  },
  {
   "cell_type": "code",
   "execution_count": 22,
   "metadata": {},
   "outputs": [
    {
     "data": {
      "text/plain": [
       "0.81"
      ]
     },
     "execution_count": 22,
     "metadata": {},
     "output_type": "execute_result"
    }
   ],
   "source": [
    "# Посчитаем долю правильных ответов\n",
    "round(accuracy_score(target_test, predictions_test), 2)"
   ]
  },
  {
   "cell_type": "markdown",
   "metadata": {},
   "source": [
    "При проверке модели на тестовой выборке мы получили долю правильных ответов равную 0.81, что говорит о том, что модель хорошо справляется с задачей классификации клиентов на тарифы \"Смарт\" и \"Ультра\" на основе их поведения."
   ]
  },
  {
   "cell_type": "markdown",
   "metadata": {},
   "source": [
    "**Расчет других метрик качества**"
   ]
  },
  {
   "cell_type": "code",
   "execution_count": 23,
   "metadata": {
    "scrolled": true
   },
   "outputs": [
    {
     "name": "stdout",
     "output_type": "stream",
     "text": [
      "precision: 0.76\n",
      "recall: 0.54\n",
      "F1-score: 0.64\n"
     ]
    }
   ],
   "source": [
    "print('precision:', round(precision_score(target_test, predictions_test), 2))\n",
    "print('recall:', round(recall_score(target_test, predictions_test), 2))\n",
    "print('F1-score:', round(f1_score(target_test, predictions_test), 2))"
   ]
  },
  {
   "cell_type": "code",
   "execution_count": 24,
   "metadata": {},
   "outputs": [
    {
     "data": {
      "image/png": "[encoded data removed]",
      "text/plain": [
       "<Figure size 640x480 with 2 Axes>"
      ]
     },
     "metadata": {},
     "output_type": "display_data"
    }
   ],
   "source": [
    "# Отдельно покажем матрицу ошибок\n",
    "cm = confusion_matrix(target_test, predictions_test)\n",
    "cm_disp = ConfusionMatrixDisplay(confusion_matrix=cm, display_labels=best_model_df.classes_)\n",
    "cm_disp.plot()\n",
    "plt.xlabel('Предсказанные классы')\n",
    "plt.ylabel('Истинные классы')\n",
    "plt.title('Матрица ошибок')\n",
    "plt.show()"
   ]
  },
  {
   "cell_type": "markdown",
   "metadata": {},
   "source": [
    "## Проверка модели на адекватность"
   ]
  },
  {
   "cell_type": "markdown",
   "metadata": {},
   "source": [
    "Чтобы проверить модель на адекватность, сравним её с простой моделью (Dummy Models)."
   ]
  },
  {
   "cell_type": "code",
   "execution_count": 25,
   "metadata": {},
   "outputs": [
    {
     "name": "stdout",
     "output_type": "stream",
     "text": [
      "Accuracy dummy-модели: 0.69\n"
     ]
    }
   ],
   "source": [
    "# Проверим модель, которая предсказывает класс, который встречается наиболее часто в обучающих данных\n",
    "dummy_model = DummyClassifier(strategy='most_frequent')\n",
    "dummy_model.fit(features_train, target_train) # обучаем модель на обучающей выборке\n",
    "predictions_dummy = dummy_model.predict(features_valid) # предсказываем на валидационной выборке\n",
    "print('Accuracy dummy-модели:', round(accuracy_score(target_valid, predictions_dummy), 2))"
   ]
  },
  {
   "cell_type": "markdown",
   "metadata": {},
   "source": [
    "Наша модель случайного леса имеет `accuracy` выше этой цифры, что свидетельствует о том, что она лучше справляется с задачей классификации."
   ]
  },
  {
   "cell_type": "markdown",
   "metadata": {},
   "source": [
    "## Вывод"
   ]
  },
  {
   "cell_type": "markdown",
   "metadata": {},
   "source": [
    "В рамках работы построена модель для задачи классификации, которая выберет подходящий тариф.\n",
    "\n",
    "* Данные разделили на обучающую, валидационную, тестовую выборки. В данных наблюдается несбалансированное распределение классов.\n",
    "* Исследованы три различные модели машинного обучения - Решающее дерево, Случайный лес и Логистическая регрессия. Для каждой модели подбирали оптимальные гиперпараметры и оценивали их производительность на валидационной выборке. \n",
    "    - Самое высокое качество у случайного леса: `accuracy` = 0.82.\n",
    "    - На втором месте - дерево решений с `accuracy` = 0.80.\n",
    "    - Самое низкое качество предсказания у логистической регрессии с `accuracy` = 0.74.\n",
    "* На основе оценки качества моделей с использованием метрики `accuracy`, мы выбрали Случайный лес как модель с наилучшим показателем на валидационной выборке.\n",
    "* Модель Случайного леса на тестовой выборке показал `accuracy` = 0.81. Это свидетельствует, что модель хорошо справляется с задачей классификации клиентов на тарифы \"Смарт\" и \"Ультра\" на основе их поведения.\n",
    "* Модель прошла проверку на адекватность.\n"
   ]
  }
 ],
 "metadata": {
  "ExecuteTimeLog": [
   {
    "duration": 415,
    "start_time": "2023-09-20T17:02:23.819Z"
   },
   {
    "duration": 114,
    "start_time": "2023-09-20T17:02:40.181Z"
   },
   {
    "duration": 19,
    "start_time": "2023-09-20T17:02:52.205Z"
   },
   {
    "duration": 12,
    "start_time": "2023-09-20T17:03:02.725Z"
   },
   {
    "duration": 3,
    "start_time": "2023-09-20T17:50:11.700Z"
   },
   {
    "duration": 29,
    "start_time": "2023-09-20T17:50:13.738Z"
   },
   {
    "duration": 833,
    "start_time": "2023-09-20T17:54:51.435Z"
   },
   {
    "duration": 764,
    "start_time": "2023-09-20T18:00:47.839Z"
   },
   {
    "duration": 1113,
    "start_time": "2023-09-20T18:22:42.762Z"
   },
   {
    "duration": 30,
    "start_time": "2023-09-20T18:22:45.137Z"
   },
   {
    "duration": 20,
    "start_time": "2023-09-20T18:22:46.903Z"
   },
   {
    "duration": 13,
    "start_time": "2023-09-20T18:22:48.717Z"
   },
   {
    "duration": 5,
    "start_time": "2023-09-20T18:23:41.895Z"
   },
   {
    "duration": 5,
    "start_time": "2023-09-20T18:25:38.152Z"
   },
   {
    "duration": 5,
    "start_time": "2023-09-20T18:31:05.589Z"
   },
   {
    "duration": 58,
    "start_time": "2023-09-20T20:42:16.091Z"
   },
   {
    "duration": 3,
    "start_time": "2023-09-20T20:55:34.877Z"
   },
   {
    "duration": 9,
    "start_time": "2023-09-20T21:26:47.023Z"
   },
   {
    "duration": 14,
    "start_time": "2023-09-20T21:28:46.836Z"
   },
   {
    "duration": 13,
    "start_time": "2023-09-20T21:28:53.933Z"
   },
   {
    "duration": 13,
    "start_time": "2023-09-20T21:28:57.871Z"
   },
   {
    "duration": 7,
    "start_time": "2023-09-20T21:29:05.026Z"
   },
   {
    "duration": 5,
    "start_time": "2023-09-20T21:29:31.054Z"
   },
   {
    "duration": 7,
    "start_time": "2023-09-20T21:29:34.542Z"
   },
   {
    "duration": 34,
    "start_time": "2023-09-20T21:37:59.960Z"
   },
   {
    "duration": 75,
    "start_time": "2023-09-20T21:38:11.059Z"
   },
   {
    "duration": 30,
    "start_time": "2023-09-20T21:42:06.369Z"
   },
   {
    "duration": 114,
    "start_time": "2023-09-20T21:45:29.709Z"
   },
   {
    "duration": 4,
    "start_time": "2023-09-20T21:45:38.945Z"
   },
   {
    "duration": 9,
    "start_time": "2023-09-20T21:47:27.741Z"
   },
   {
    "duration": 15,
    "start_time": "2023-09-20T21:50:14.339Z"
   },
   {
    "duration": 43,
    "start_time": "2023-09-20T21:56:25.804Z"
   },
   {
    "duration": 5,
    "start_time": "2023-09-20T21:56:28.268Z"
   },
   {
    "duration": 36,
    "start_time": "2023-09-20T21:56:56.238Z"
   },
   {
    "duration": 5,
    "start_time": "2023-09-20T21:56:58.045Z"
   },
   {
    "duration": 4347,
    "start_time": "2023-09-20T22:09:55.920Z"
   },
   {
    "duration": 4506,
    "start_time": "2023-09-20T22:11:49.174Z"
   },
   {
    "duration": 4293,
    "start_time": "2023-09-20T22:12:11.230Z"
   },
   {
    "duration": 1192,
    "start_time": "2023-09-20T22:12:48.954Z"
   },
   {
    "duration": 30,
    "start_time": "2023-09-20T22:12:51.568Z"
   },
   {
    "duration": 26,
    "start_time": "2023-09-20T22:12:53.370Z"
   },
   {
    "duration": 15,
    "start_time": "2023-09-20T22:12:55.891Z"
   },
   {
    "duration": 6,
    "start_time": "2023-09-20T22:12:58.719Z"
   },
   {
    "duration": 6,
    "start_time": "2023-09-20T22:13:01.148Z"
   },
   {
    "duration": 3,
    "start_time": "2023-09-20T22:13:03.269Z"
   },
   {
    "duration": 9,
    "start_time": "2023-09-20T22:13:06.146Z"
   },
   {
    "duration": 8,
    "start_time": "2023-09-20T22:13:08.144Z"
   },
   {
    "duration": 37,
    "start_time": "2023-09-20T22:13:15.892Z"
   },
   {
    "duration": 3,
    "start_time": "2023-09-20T22:13:18.510Z"
   },
   {
    "duration": 4181,
    "start_time": "2023-09-20T22:13:30.697Z"
   },
   {
    "duration": 4,
    "start_time": "2023-09-20T22:13:38.861Z"
   },
   {
    "duration": 3,
    "start_time": "2023-09-20T22:15:15.573Z"
   },
   {
    "duration": 1356,
    "start_time": "2023-09-21T13:09:20.254Z"
   },
   {
    "duration": 133,
    "start_time": "2023-09-21T13:09:23.272Z"
   },
   {
    "duration": 20,
    "start_time": "2023-09-21T13:09:24.578Z"
   },
   {
    "duration": 19,
    "start_time": "2023-09-21T13:09:26.323Z"
   },
   {
    "duration": 6,
    "start_time": "2023-09-21T13:09:28.662Z"
   },
   {
    "duration": 6,
    "start_time": "2023-09-21T13:09:29.769Z"
   },
   {
    "duration": 8,
    "start_time": "2023-09-21T13:09:30.664Z"
   },
   {
    "duration": 13,
    "start_time": "2023-09-21T13:09:34.556Z"
   },
   {
    "duration": 54,
    "start_time": "2023-09-21T13:10:53.205Z"
   },
   {
    "duration": 129,
    "start_time": "2023-09-21T13:10:55.169Z"
   },
   {
    "duration": 4,
    "start_time": "2023-09-21T13:11:06.070Z"
   },
   {
    "duration": 4746,
    "start_time": "2023-09-21T13:11:15.554Z"
   },
   {
    "duration": 4,
    "start_time": "2023-09-21T13:11:22.698Z"
   },
   {
    "duration": 237,
    "start_time": "2023-09-21T14:41:57.139Z"
   },
   {
    "duration": 4,
    "start_time": "2023-09-21T14:43:52.021Z"
   },
   {
    "duration": 204,
    "start_time": "2023-09-21T14:44:01.007Z"
   },
   {
    "duration": 5,
    "start_time": "2023-09-21T14:44:03.941Z"
   },
   {
    "duration": 2136,
    "start_time": "2023-09-21T14:44:11.717Z"
   },
   {
    "duration": 416,
    "start_time": "2023-09-21T14:44:21.425Z"
   },
   {
    "duration": 513,
    "start_time": "2023-09-21T14:44:30.201Z"
   },
   {
    "duration": 6,
    "start_time": "2023-09-21T14:44:33.021Z"
   },
   {
    "duration": 1047,
    "start_time": "2023-09-21T14:44:42.310Z"
   },
   {
    "duration": 973,
    "start_time": "2023-09-21T14:44:48.757Z"
   },
   {
    "duration": 5,
    "start_time": "2023-09-21T14:44:51.361Z"
   },
   {
    "duration": 983,
    "start_time": "2023-09-21T14:44:55.898Z"
   },
   {
    "duration": 4,
    "start_time": "2023-09-21T14:44:58.198Z"
   },
   {
    "duration": 503,
    "start_time": "2023-09-21T14:45:24.262Z"
   },
   {
    "duration": 4,
    "start_time": "2023-09-21T14:45:26.216Z"
   },
   {
    "duration": 260,
    "start_time": "2023-09-21T14:45:32.205Z"
   },
   {
    "duration": 4,
    "start_time": "2023-09-21T14:45:34.579Z"
   },
   {
    "duration": 1761,
    "start_time": "2023-09-21T14:46:33.373Z"
   },
   {
    "duration": 92,
    "start_time": "2023-09-21T14:46:51.285Z"
   },
   {
    "duration": 5,
    "start_time": "2023-09-21T14:46:53.642Z"
   },
   {
    "duration": 1070,
    "start_time": "2023-09-21T14:47:03.237Z"
   },
   {
    "duration": 1202,
    "start_time": "2023-09-21T14:47:10.142Z"
   },
   {
    "duration": 207,
    "start_time": "2023-09-21T14:47:18.999Z"
   },
   {
    "duration": 9,
    "start_time": "2023-09-21T16:55:30.303Z"
   },
   {
    "duration": 18,
    "start_time": "2023-09-21T16:55:41.445Z"
   },
   {
    "duration": 12,
    "start_time": "2023-09-21T16:56:34.678Z"
   },
   {
    "duration": 5,
    "start_time": "2023-09-21T16:57:27.891Z"
   },
   {
    "duration": 6,
    "start_time": "2023-09-21T17:34:08.512Z"
   },
   {
    "duration": 5,
    "start_time": "2023-09-21T17:34:13.873Z"
   },
   {
    "duration": 3,
    "start_time": "2023-09-21T17:34:25.677Z"
   },
   {
    "duration": 5,
    "start_time": "2023-09-21T17:34:29.455Z"
   },
   {
    "duration": 10,
    "start_time": "2023-09-21T17:34:39.328Z"
   },
   {
    "duration": 4,
    "start_time": "2023-09-21T17:35:46.682Z"
   },
   {
    "duration": 4,
    "start_time": "2023-09-21T17:39:36.192Z"
   },
   {
    "duration": 4,
    "start_time": "2023-09-21T17:39:46.444Z"
   },
   {
    "duration": 5,
    "start_time": "2023-09-21T17:40:07.620Z"
   },
   {
    "duration": 23,
    "start_time": "2023-09-21T18:41:29.315Z"
   },
   {
    "duration": 5,
    "start_time": "2023-09-21T18:42:59.493Z"
   },
   {
    "duration": 1199,
    "start_time": "2023-09-21T18:49:11.276Z"
   },
   {
    "duration": 30,
    "start_time": "2023-09-21T18:49:12.477Z"
   },
   {
    "duration": 29,
    "start_time": "2023-09-21T18:49:12.509Z"
   },
   {
    "duration": 12,
    "start_time": "2023-09-21T18:49:12.544Z"
   },
   {
    "duration": 6,
    "start_time": "2023-09-21T18:49:12.558Z"
   },
   {
    "duration": 10,
    "start_time": "2023-09-21T18:49:12.565Z"
   },
   {
    "duration": 4,
    "start_time": "2023-09-21T18:49:12.577Z"
   },
   {
    "duration": 15,
    "start_time": "2023-09-21T18:49:12.583Z"
   },
   {
    "duration": 46,
    "start_time": "2023-09-21T18:49:12.599Z"
   },
   {
    "duration": 6,
    "start_time": "2023-09-21T18:49:12.649Z"
   },
   {
    "duration": 4159,
    "start_time": "2023-09-21T18:49:12.656Z"
   },
   {
    "duration": 14,
    "start_time": "2023-09-21T18:49:16.817Z"
   },
   {
    "duration": 278,
    "start_time": "2023-09-21T18:49:16.833Z"
   },
   {
    "duration": 5,
    "start_time": "2023-09-21T18:49:17.113Z"
   },
   {
    "duration": 26,
    "start_time": "2023-09-21T18:49:17.123Z"
   },
   {
    "duration": 55,
    "start_time": "2023-09-21T18:49:17.152Z"
   },
   {
    "duration": 12,
    "start_time": "2023-09-21T18:49:17.209Z"
   },
   {
    "duration": 30,
    "start_time": "2023-09-21T18:49:17.226Z"
   },
   {
    "duration": 26,
    "start_time": "2023-09-21T19:35:09.949Z"
   },
   {
    "duration": 4,
    "start_time": "2023-09-21T19:35:32.878Z"
   },
   {
    "duration": 29,
    "start_time": "2023-09-21T19:35:45.845Z"
   },
   {
    "duration": 124,
    "start_time": "2023-09-21T19:36:03.718Z"
   },
   {
    "duration": 27,
    "start_time": "2023-09-21T19:36:05.553Z"
   },
   {
    "duration": 4,
    "start_time": "2023-09-21T19:36:07.578Z"
   },
   {
    "duration": 1281,
    "start_time": "2023-09-21T19:36:21.375Z"
   },
   {
    "duration": 33,
    "start_time": "2023-09-21T19:36:22.658Z"
   },
   {
    "duration": 23,
    "start_time": "2023-09-21T19:36:22.693Z"
   },
   {
    "duration": 20,
    "start_time": "2023-09-21T19:36:22.718Z"
   },
   {
    "duration": 16,
    "start_time": "2023-09-21T19:36:22.741Z"
   },
   {
    "duration": 5,
    "start_time": "2023-09-21T19:36:22.759Z"
   },
   {
    "duration": 10,
    "start_time": "2023-09-21T19:36:22.765Z"
   },
   {
    "duration": 10,
    "start_time": "2023-09-21T19:36:22.777Z"
   },
   {
    "duration": 48,
    "start_time": "2023-09-21T19:36:22.789Z"
   },
   {
    "duration": 4,
    "start_time": "2023-09-21T19:36:22.839Z"
   },
   {
    "duration": 4462,
    "start_time": "2023-09-21T19:36:22.852Z"
   },
   {
    "duration": 15,
    "start_time": "2023-09-21T19:36:27.316Z"
   },
   {
    "duration": 30,
    "start_time": "2023-09-21T19:36:27.337Z"
   },
   {
    "duration": 3,
    "start_time": "2023-09-21T19:36:27.370Z"
   },
   {
    "duration": 41,
    "start_time": "2023-09-21T19:36:27.374Z"
   },
   {
    "duration": 11,
    "start_time": "2023-09-21T19:36:27.417Z"
   },
   {
    "duration": 7,
    "start_time": "2023-09-21T19:36:27.438Z"
   },
   {
    "duration": 17,
    "start_time": "2023-09-21T19:36:27.447Z"
   },
   {
    "duration": 1249,
    "start_time": "2023-09-21T19:46:34.785Z"
   },
   {
    "duration": 35,
    "start_time": "2023-09-21T19:46:36.037Z"
   },
   {
    "duration": 67,
    "start_time": "2023-09-21T19:46:36.074Z"
   },
   {
    "duration": 47,
    "start_time": "2023-09-21T19:46:36.144Z"
   },
   {
    "duration": 64,
    "start_time": "2023-09-21T19:46:36.193Z"
   },
   {
    "duration": 90,
    "start_time": "2023-09-21T19:46:36.259Z"
   },
   {
    "duration": 81,
    "start_time": "2023-09-21T19:46:36.351Z"
   },
   {
    "duration": 64,
    "start_time": "2023-09-21T19:46:36.434Z"
   },
   {
    "duration": 280,
    "start_time": "2023-09-21T19:46:36.500Z"
   },
   {
    "duration": 84,
    "start_time": "2023-09-21T19:46:36.783Z"
   },
   {
    "duration": 4547,
    "start_time": "2023-09-21T19:46:36.870Z"
   },
   {
    "duration": 4,
    "start_time": "2023-09-21T19:46:41.419Z"
   },
   {
    "duration": 222,
    "start_time": "2023-09-21T19:46:41.426Z"
   },
   {
    "duration": 29,
    "start_time": "2023-09-21T19:46:41.651Z"
   },
   {
    "duration": 51,
    "start_time": "2023-09-21T19:46:41.682Z"
   },
   {
    "duration": 43,
    "start_time": "2023-09-21T19:46:41.741Z"
   },
   {
    "duration": 177,
    "start_time": "2023-09-21T19:46:41.786Z"
   },
   {
    "duration": 71,
    "start_time": "2023-09-21T19:46:41.965Z"
   },
   {
    "duration": 1262,
    "start_time": "2023-09-21T19:48:27.387Z"
   },
   {
    "duration": 31,
    "start_time": "2023-09-21T19:48:28.651Z"
   },
   {
    "duration": 18,
    "start_time": "2023-09-21T19:48:28.684Z"
   },
   {
    "duration": 16,
    "start_time": "2023-09-21T19:48:28.703Z"
   },
   {
    "duration": 24,
    "start_time": "2023-09-21T19:48:28.722Z"
   },
   {
    "duration": 21,
    "start_time": "2023-09-21T19:48:28.747Z"
   },
   {
    "duration": 29,
    "start_time": "2023-09-21T19:48:28.770Z"
   },
   {
    "duration": 20,
    "start_time": "2023-09-21T19:48:28.802Z"
   },
   {
    "duration": 66,
    "start_time": "2023-09-21T19:48:28.825Z"
   },
   {
    "duration": 5,
    "start_time": "2023-09-21T19:48:28.894Z"
   },
   {
    "duration": 4533,
    "start_time": "2023-09-21T19:48:28.901Z"
   },
   {
    "duration": 8,
    "start_time": "2023-09-21T19:48:33.444Z"
   },
   {
    "duration": 190,
    "start_time": "2023-09-21T19:48:33.454Z"
   },
   {
    "duration": 34,
    "start_time": "2023-09-21T19:48:33.647Z"
   },
   {
    "duration": 39,
    "start_time": "2023-09-21T19:48:33.683Z"
   },
   {
    "duration": 12,
    "start_time": "2023-09-21T19:48:33.724Z"
   },
   {
    "duration": 38,
    "start_time": "2023-09-21T19:48:33.738Z"
   },
   {
    "duration": 28,
    "start_time": "2023-09-21T19:48:33.778Z"
   },
   {
    "duration": 1275,
    "start_time": "2023-09-21T19:49:22.312Z"
   },
   {
    "duration": 30,
    "start_time": "2023-09-21T19:49:23.590Z"
   },
   {
    "duration": 31,
    "start_time": "2023-09-21T19:49:23.621Z"
   },
   {
    "duration": 18,
    "start_time": "2023-09-21T19:49:23.654Z"
   },
   {
    "duration": 34,
    "start_time": "2023-09-21T19:49:23.675Z"
   },
   {
    "duration": 40,
    "start_time": "2023-09-21T19:49:23.711Z"
   },
   {
    "duration": 31,
    "start_time": "2023-09-21T19:49:23.754Z"
   },
   {
    "duration": 25,
    "start_time": "2023-09-21T19:49:23.787Z"
   },
   {
    "duration": 78,
    "start_time": "2023-09-21T19:49:23.814Z"
   },
   {
    "duration": 16,
    "start_time": "2023-09-21T19:49:23.894Z"
   },
   {
    "duration": 4382,
    "start_time": "2023-09-21T19:49:23.912Z"
   },
   {
    "duration": 5,
    "start_time": "2023-09-21T19:49:28.295Z"
   },
   {
    "duration": 86,
    "start_time": "2023-09-21T19:49:28.301Z"
   },
   {
    "duration": 7,
    "start_time": "2023-09-21T19:49:28.391Z"
   },
   {
    "duration": 20,
    "start_time": "2023-09-21T19:49:28.400Z"
   },
   {
    "duration": 16,
    "start_time": "2023-09-21T19:49:28.421Z"
   },
   {
    "duration": 6,
    "start_time": "2023-09-21T19:49:28.438Z"
   },
   {
    "duration": 7,
    "start_time": "2023-09-21T19:49:28.448Z"
   },
   {
    "duration": 2528,
    "start_time": "2023-09-21T20:03:51.841Z"
   },
   {
    "duration": 31,
    "start_time": "2023-09-21T20:03:54.371Z"
   },
   {
    "duration": 16,
    "start_time": "2023-09-21T20:03:54.403Z"
   },
   {
    "duration": 33,
    "start_time": "2023-09-21T20:03:54.421Z"
   },
   {
    "duration": 36,
    "start_time": "2023-09-21T20:03:54.456Z"
   },
   {
    "duration": 38,
    "start_time": "2023-09-21T20:03:54.494Z"
   },
   {
    "duration": 25,
    "start_time": "2023-09-21T20:03:54.534Z"
   },
   {
    "duration": 38,
    "start_time": "2023-09-21T20:03:54.560Z"
   },
   {
    "duration": 69,
    "start_time": "2023-09-21T20:03:54.599Z"
   },
   {
    "duration": 23,
    "start_time": "2023-09-21T20:03:54.670Z"
   },
   {
    "duration": 3780,
    "start_time": "2023-09-21T20:03:54.694Z"
   },
   {
    "duration": 4,
    "start_time": "2023-09-21T20:03:58.476Z"
   },
   {
    "duration": 42,
    "start_time": "2023-09-21T20:03:58.481Z"
   },
   {
    "duration": 4,
    "start_time": "2023-09-21T20:03:58.525Z"
   },
   {
    "duration": 35,
    "start_time": "2023-09-21T20:03:58.530Z"
   },
   {
    "duration": 39,
    "start_time": "2023-09-21T20:03:58.567Z"
   },
   {
    "duration": 33,
    "start_time": "2023-09-21T20:03:58.608Z"
   },
   {
    "duration": 35,
    "start_time": "2023-09-21T20:03:58.642Z"
   },
   {
    "duration": 1374,
    "start_time": "2023-09-22T05:24:28.305Z"
   },
   {
    "duration": 3,
    "start_time": "2023-09-22T05:24:37.461Z"
   },
   {
    "duration": 4,
    "start_time": "2023-09-22T05:26:25.669Z"
   },
   {
    "duration": 4,
    "start_time": "2023-09-22T05:34:53.920Z"
   },
   {
    "duration": 143,
    "start_time": "2023-09-22T05:35:33.741Z"
   },
   {
    "duration": 162,
    "start_time": "2023-09-22T05:38:06.004Z"
   },
   {
    "duration": 23,
    "start_time": "2023-09-22T05:38:08.154Z"
   },
   {
    "duration": 13,
    "start_time": "2023-09-22T05:38:11.075Z"
   },
   {
    "duration": 34,
    "start_time": "2023-09-22T05:38:13.649Z"
   },
   {
    "duration": 3706,
    "start_time": "2023-09-22T07:23:16.200Z"
   },
   {
    "duration": 8,
    "start_time": "2023-09-22T07:23:30.086Z"
   },
   {
    "duration": 43,
    "start_time": "2023-09-22T07:23:36.369Z"
   },
   {
    "duration": 961,
    "start_time": "2023-09-22T07:26:52.063Z"
   },
   {
    "duration": 49,
    "start_time": "2023-09-22T07:31:16.768Z"
   },
   {
    "duration": 15,
    "start_time": "2023-09-22T07:31:29.782Z"
   },
   {
    "duration": 19,
    "start_time": "2023-09-22T07:31:35.377Z"
   },
   {
    "duration": 251,
    "start_time": "2023-09-22T07:31:45.065Z"
   },
   {
    "duration": 185,
    "start_time": "2023-09-22T07:31:57.364Z"
   },
   {
    "duration": 226,
    "start_time": "2023-09-22T07:32:12.566Z"
   },
   {
    "duration": 177,
    "start_time": "2023-09-22T07:37:26.332Z"
   },
   {
    "duration": 189,
    "start_time": "2023-09-22T07:38:08.654Z"
   },
   {
    "duration": 137,
    "start_time": "2023-09-22T07:38:14.663Z"
   },
   {
    "duration": 234,
    "start_time": "2023-09-22T07:38:40.464Z"
   },
   {
    "duration": 198,
    "start_time": "2023-09-22T07:38:51.014Z"
   },
   {
    "duration": 157,
    "start_time": "2023-09-22T07:38:56.203Z"
   },
   {
    "duration": 147,
    "start_time": "2023-09-22T07:39:02.539Z"
   },
   {
    "duration": 159,
    "start_time": "2023-09-22T07:39:27.519Z"
   },
   {
    "duration": 213,
    "start_time": "2023-09-22T07:39:32.185Z"
   },
   {
    "duration": 131,
    "start_time": "2023-09-22T07:39:38.176Z"
   },
   {
    "duration": 165,
    "start_time": "2023-09-22T07:39:42.062Z"
   },
   {
    "duration": 198,
    "start_time": "2023-09-22T07:39:49.006Z"
   },
   {
    "duration": 31,
    "start_time": "2023-09-22T08:34:14.725Z"
   },
   {
    "duration": 72,
    "start_time": "2023-09-22T09:01:48.397Z"
   },
   {
    "duration": 442,
    "start_time": "2023-09-22T09:02:15.119Z"
   },
   {
    "duration": 345,
    "start_time": "2023-09-22T09:02:29.267Z"
   },
   {
    "duration": 491,
    "start_time": "2023-09-22T09:09:09.988Z"
   },
   {
    "duration": 1707,
    "start_time": "2023-09-22T12:48:49.246Z"
   },
   {
    "duration": 124,
    "start_time": "2023-09-22T12:48:50.956Z"
   },
   {
    "duration": 19,
    "start_time": "2023-09-22T12:48:51.082Z"
   },
   {
    "duration": 25,
    "start_time": "2023-09-22T12:48:51.104Z"
   },
   {
    "duration": 41,
    "start_time": "2023-09-22T12:48:51.132Z"
   },
   {
    "duration": 8,
    "start_time": "2023-09-22T12:48:51.175Z"
   },
   {
    "duration": 179,
    "start_time": "2023-09-22T12:48:51.185Z"
   },
   {
    "duration": 10,
    "start_time": "2023-09-22T12:48:51.366Z"
   },
   {
    "duration": 539,
    "start_time": "2023-09-22T12:48:51.378Z"
   },
   {
    "duration": 6,
    "start_time": "2023-09-22T12:48:51.919Z"
   },
   {
    "duration": 18,
    "start_time": "2023-09-22T12:48:51.927Z"
   },
   {
    "duration": 11,
    "start_time": "2023-09-22T12:48:51.946Z"
   },
   {
    "duration": 10,
    "start_time": "2023-09-22T12:48:51.959Z"
   },
   {
    "duration": 157,
    "start_time": "2023-09-22T12:48:51.971Z"
   },
   {
    "duration": 5,
    "start_time": "2023-09-22T12:48:52.131Z"
   },
   {
    "duration": 4268,
    "start_time": "2023-09-22T12:48:52.141Z"
   },
   {
    "duration": 4,
    "start_time": "2023-09-22T12:48:56.411Z"
   },
   {
    "duration": 43,
    "start_time": "2023-09-22T12:48:56.417Z"
   },
   {
    "duration": 3,
    "start_time": "2023-09-22T12:48:56.462Z"
   },
   {
    "duration": 14,
    "start_time": "2023-09-22T12:48:56.467Z"
   },
   {
    "duration": 5,
    "start_time": "2023-09-22T12:48:56.483Z"
   },
   {
    "duration": 21,
    "start_time": "2023-09-22T12:48:56.490Z"
   },
   {
    "duration": 5,
    "start_time": "2023-09-22T12:48:56.513Z"
   },
   {
    "duration": 4,
    "start_time": "2023-09-22T13:06:51.280Z"
   },
   {
    "duration": 6,
    "start_time": "2023-09-22T13:06:56.610Z"
   },
   {
    "duration": 4,
    "start_time": "2023-09-22T13:27:28.640Z"
   },
   {
    "duration": 17,
    "start_time": "2023-09-22T13:27:34.149Z"
   },
   {
    "duration": 8,
    "start_time": "2023-09-22T13:27:37.460Z"
   },
   {
    "duration": 20,
    "start_time": "2023-09-22T13:27:44.499Z"
   },
   {
    "duration": 6,
    "start_time": "2023-09-22T13:27:47.833Z"
   },
   {
    "duration": 5,
    "start_time": "2023-09-22T13:27:51.359Z"
   },
   {
    "duration": 14,
    "start_time": "2023-09-22T13:29:13.073Z"
   },
   {
    "duration": 129,
    "start_time": "2023-09-22T13:29:23.763Z"
   },
   {
    "duration": 15,
    "start_time": "2023-09-22T13:29:25.519Z"
   },
   {
    "duration": 8,
    "start_time": "2023-09-22T13:29:50.345Z"
   },
   {
    "duration": 6,
    "start_time": "2023-09-22T13:29:59.454Z"
   },
   {
    "duration": 6,
    "start_time": "2023-09-22T13:30:18.831Z"
   },
   {
    "duration": 6,
    "start_time": "2023-09-22T13:30:24.582Z"
   },
   {
    "duration": 133,
    "start_time": "2023-09-22T13:32:19.185Z"
   },
   {
    "duration": 6,
    "start_time": "2023-09-22T13:32:26.223Z"
   },
   {
    "duration": 16,
    "start_time": "2023-09-22T13:32:32.355Z"
   },
   {
    "duration": 15,
    "start_time": "2023-09-22T13:32:40.017Z"
   },
   {
    "duration": 5,
    "start_time": "2023-09-22T13:32:47.606Z"
   },
   {
    "duration": 5,
    "start_time": "2023-09-22T13:32:55.689Z"
   },
   {
    "duration": 7,
    "start_time": "2023-09-22T13:33:19.663Z"
   },
   {
    "duration": 7,
    "start_time": "2023-09-22T13:33:27.670Z"
   },
   {
    "duration": 7,
    "start_time": "2023-09-22T13:33:39.370Z"
   },
   {
    "duration": 14,
    "start_time": "2023-09-22T13:33:50.055Z"
   },
   {
    "duration": 17,
    "start_time": "2023-09-22T13:34:22.528Z"
   },
   {
    "duration": 7,
    "start_time": "2023-09-22T13:34:26.286Z"
   },
   {
    "duration": 7,
    "start_time": "2023-09-22T13:36:27.416Z"
   },
   {
    "duration": 13,
    "start_time": "2023-09-22T13:36:37.829Z"
   },
   {
    "duration": 13,
    "start_time": "2023-09-22T13:36:44.058Z"
   },
   {
    "duration": 6,
    "start_time": "2023-09-22T13:36:53.563Z"
   },
   {
    "duration": 6,
    "start_time": "2023-09-22T13:36:56.363Z"
   },
   {
    "duration": 6,
    "start_time": "2023-09-22T13:37:03.740Z"
   },
   {
    "duration": 6,
    "start_time": "2023-09-22T13:37:35.735Z"
   },
   {
    "duration": 6,
    "start_time": "2023-09-22T13:37:40.692Z"
   },
   {
    "duration": 6,
    "start_time": "2023-09-22T13:38:26.419Z"
   },
   {
    "duration": 4,
    "start_time": "2023-09-22T13:38:37.380Z"
   },
   {
    "duration": 4,
    "start_time": "2023-09-22T13:38:48.957Z"
   },
   {
    "duration": 5,
    "start_time": "2023-09-22T13:38:56.449Z"
   },
   {
    "duration": 158,
    "start_time": "2023-09-22T13:39:56.494Z"
   },
   {
    "duration": 11,
    "start_time": "2023-09-22T13:41:36.237Z"
   },
   {
    "duration": 168,
    "start_time": "2023-09-22T13:42:00.155Z"
   },
   {
    "duration": 281,
    "start_time": "2023-09-22T13:43:48.039Z"
   },
   {
    "duration": 324,
    "start_time": "2023-09-22T13:43:59.868Z"
   },
   {
    "duration": 333,
    "start_time": "2023-09-22T13:44:18.436Z"
   },
   {
    "duration": 325,
    "start_time": "2023-09-22T13:44:43.349Z"
   },
   {
    "duration": 435,
    "start_time": "2023-09-22T13:45:13.902Z"
   },
   {
    "duration": 371,
    "start_time": "2023-09-22T13:45:32.813Z"
   },
   {
    "duration": 331,
    "start_time": "2023-09-22T13:45:46.058Z"
   },
   {
    "duration": 327,
    "start_time": "2023-09-22T13:45:51.267Z"
   },
   {
    "duration": 332,
    "start_time": "2023-09-22T13:45:55.741Z"
   },
   {
    "duration": 7563,
    "start_time": "2023-09-22T13:46:07.996Z"
   },
   {
    "duration": 7603,
    "start_time": "2023-09-22T13:46:17.865Z"
   },
   {
    "duration": 6,
    "start_time": "2023-09-22T13:48:42.887Z"
   },
   {
    "duration": 7,
    "start_time": "2023-09-22T13:49:02.866Z"
   },
   {
    "duration": 6,
    "start_time": "2023-09-22T13:49:10.128Z"
   },
   {
    "duration": 142,
    "start_time": "2023-09-22T14:11:59.203Z"
   },
   {
    "duration": 14,
    "start_time": "2023-09-22T14:12:27.035Z"
   },
   {
    "duration": 2467,
    "start_time": "2023-09-22T14:12:36.404Z"
   },
   {
    "duration": 5204,
    "start_time": "2023-09-22T14:13:03.629Z"
   },
   {
    "duration": 126,
    "start_time": "2023-09-22T14:13:08.836Z"
   },
   {
    "duration": 23,
    "start_time": "2023-09-22T14:13:08.964Z"
   },
   {
    "duration": 13,
    "start_time": "2023-09-22T14:13:08.989Z"
   },
   {
    "duration": 56,
    "start_time": "2023-09-22T14:13:09.004Z"
   },
   {
    "duration": 5,
    "start_time": "2023-09-22T14:13:09.063Z"
   },
   {
    "duration": 194,
    "start_time": "2023-09-22T14:13:09.069Z"
   },
   {
    "duration": 13,
    "start_time": "2023-09-22T14:13:09.265Z"
   },
   {
    "duration": 423,
    "start_time": "2023-09-22T14:13:09.280Z"
   },
   {
    "duration": 17,
    "start_time": "2023-09-22T14:13:09.704Z"
   },
   {
    "duration": 8,
    "start_time": "2023-09-22T14:13:09.730Z"
   },
   {
    "duration": 14,
    "start_time": "2023-09-22T14:13:09.740Z"
   },
   {
    "duration": 20,
    "start_time": "2023-09-22T14:13:09.756Z"
   },
   {
    "duration": 137,
    "start_time": "2023-09-22T14:13:13.253Z"
   },
   {
    "duration": 99,
    "start_time": "2023-09-22T14:13:26.722Z"
   },
   {
    "duration": 6,
    "start_time": "2023-09-22T14:13:45.726Z"
   },
   {
    "duration": 112,
    "start_time": "2023-09-22T14:15:11.928Z"
   },
   {
    "duration": 128,
    "start_time": "2023-09-22T14:16:48.631Z"
   },
   {
    "duration": 216,
    "start_time": "2023-09-22T14:17:16.612Z"
   },
   {
    "duration": 149,
    "start_time": "2023-09-22T14:17:33.597Z"
   },
   {
    "duration": 157,
    "start_time": "2023-09-22T14:17:40.297Z"
   },
   {
    "duration": 167,
    "start_time": "2023-09-22T14:21:38.902Z"
   },
   {
    "duration": 168,
    "start_time": "2023-09-22T14:22:07.110Z"
   },
   {
    "duration": 193,
    "start_time": "2023-09-22T14:22:10.816Z"
   },
   {
    "duration": 153,
    "start_time": "2023-09-22T14:23:07.779Z"
   },
   {
    "duration": 173,
    "start_time": "2023-09-22T14:23:11.542Z"
   },
   {
    "duration": 615,
    "start_time": "2023-09-22T14:23:17.617Z"
   },
   {
    "duration": 170,
    "start_time": "2023-09-22T14:23:20.271Z"
   },
   {
    "duration": 216,
    "start_time": "2023-09-22T14:23:28.779Z"
   },
   {
    "duration": 176,
    "start_time": "2023-09-22T14:23:31.026Z"
   },
   {
    "duration": 309,
    "start_time": "2023-09-22T14:23:37.356Z"
   },
   {
    "duration": 364,
    "start_time": "2023-09-22T14:23:41.080Z"
   },
   {
    "duration": 173,
    "start_time": "2023-09-22T14:23:44.161Z"
   },
   {
    "duration": 316,
    "start_time": "2023-09-22T14:23:49.368Z"
   },
   {
    "duration": 199,
    "start_time": "2023-09-22T14:23:51.190Z"
   },
   {
    "duration": 187,
    "start_time": "2023-09-22T14:24:48.606Z"
   },
   {
    "duration": 294,
    "start_time": "2023-09-22T14:25:02.273Z"
   },
   {
    "duration": 174,
    "start_time": "2023-09-22T14:25:06.966Z"
   },
   {
    "duration": 190,
    "start_time": "2023-09-22T14:25:17.441Z"
   },
   {
    "duration": 4,
    "start_time": "2023-09-22T14:25:37.537Z"
   },
   {
    "duration": 40,
    "start_time": "2023-09-22T14:26:34.648Z"
   },
   {
    "duration": 205,
    "start_time": "2023-09-22T14:26:37.065Z"
   },
   {
    "duration": 3,
    "start_time": "2023-09-22T14:26:40.746Z"
   },
   {
    "duration": 284,
    "start_time": "2023-09-22T14:26:58.691Z"
   },
   {
    "duration": 181,
    "start_time": "2023-09-22T14:27:06.431Z"
   },
   {
    "duration": 13,
    "start_time": "2023-09-22T14:29:36.797Z"
   },
   {
    "duration": 8,
    "start_time": "2023-09-22T14:29:42.776Z"
   },
   {
    "duration": 13,
    "start_time": "2023-09-22T14:30:46.541Z"
   },
   {
    "duration": 34,
    "start_time": "2023-09-22T14:30:50.207Z"
   },
   {
    "duration": 5,
    "start_time": "2023-09-22T14:31:09.360Z"
   },
   {
    "duration": 14,
    "start_time": "2023-09-22T14:37:17.836Z"
   },
   {
    "duration": 9,
    "start_time": "2023-09-22T14:37:56.831Z"
   },
   {
    "duration": 13,
    "start_time": "2023-09-22T14:39:50.528Z"
   },
   {
    "duration": 4,
    "start_time": "2023-09-22T14:45:30.848Z"
   },
   {
    "duration": 190,
    "start_time": "2023-09-22T14:45:56.203Z"
   },
   {
    "duration": 1924,
    "start_time": "2023-09-22T19:26:30.172Z"
   },
   {
    "duration": 189,
    "start_time": "2023-09-22T19:26:32.098Z"
   },
   {
    "duration": 30,
    "start_time": "2023-09-22T19:26:32.288Z"
   },
   {
    "duration": 58,
    "start_time": "2023-09-22T19:26:32.321Z"
   },
   {
    "duration": 279,
    "start_time": "2023-09-22T19:26:32.381Z"
   },
   {
    "duration": 30,
    "start_time": "2023-09-22T19:26:32.662Z"
   },
   {
    "duration": 166,
    "start_time": "2023-09-22T19:26:32.694Z"
   },
   {
    "duration": 11,
    "start_time": "2023-09-22T19:26:32.862Z"
   },
   {
    "duration": 488,
    "start_time": "2023-09-22T19:26:32.875Z"
   },
   {
    "duration": 4,
    "start_time": "2023-09-22T19:26:33.366Z"
   },
   {
    "duration": 50,
    "start_time": "2023-09-22T19:26:33.372Z"
   },
   {
    "duration": 44,
    "start_time": "2023-09-22T19:26:33.427Z"
   },
   {
    "duration": 15,
    "start_time": "2023-09-22T19:26:33.474Z"
   },
   {
    "duration": 358,
    "start_time": "2023-09-22T19:26:33.491Z"
   },
   {
    "duration": 193,
    "start_time": "2023-09-22T19:26:36.471Z"
   },
   {
    "duration": 330,
    "start_time": "2023-09-22T19:27:25.085Z"
   },
   {
    "duration": 202,
    "start_time": "2023-09-22T19:27:38.967Z"
   },
   {
    "duration": 209,
    "start_time": "2023-09-22T19:27:44.330Z"
   },
   {
    "duration": 199,
    "start_time": "2023-09-22T19:27:47.328Z"
   },
   {
    "duration": 247,
    "start_time": "2023-09-22T19:27:53.870Z"
   },
   {
    "duration": 195,
    "start_time": "2023-09-22T19:27:57.154Z"
   },
   {
    "duration": 216,
    "start_time": "2023-09-22T19:28:29.030Z"
   },
   {
    "duration": 5,
    "start_time": "2023-09-22T19:28:45.083Z"
   },
   {
    "duration": 218,
    "start_time": "2023-09-22T19:30:08.458Z"
   },
   {
    "duration": 240,
    "start_time": "2023-09-22T19:30:14.701Z"
   },
   {
    "duration": 199,
    "start_time": "2023-09-22T19:34:22.649Z"
   },
   {
    "duration": 5,
    "start_time": "2023-09-22T19:50:47.303Z"
   },
   {
    "duration": 208,
    "start_time": "2023-09-22T20:08:56.539Z"
   },
   {
    "duration": 624,
    "start_time": "2023-09-22T20:14:56.426Z"
   },
   {
    "duration": 803,
    "start_time": "2023-09-22T20:15:10.231Z"
   },
   {
    "duration": 672,
    "start_time": "2023-09-22T20:18:09.498Z"
   },
   {
    "duration": 685,
    "start_time": "2023-09-22T20:18:40.332Z"
   },
   {
    "duration": 129,
    "start_time": "2023-09-22T20:19:17.345Z"
   },
   {
    "duration": 124,
    "start_time": "2023-09-22T20:19:50.164Z"
   },
   {
    "duration": 652,
    "start_time": "2023-09-22T20:19:54.791Z"
   },
   {
    "duration": 4044,
    "start_time": "2023-09-22T20:24:19.849Z"
   },
   {
    "duration": 5484,
    "start_time": "2023-09-22T20:34:42.781Z"
   },
   {
    "duration": 36,
    "start_time": "2023-09-22T20:52:26.491Z"
   },
   {
    "duration": 4576,
    "start_time": "2023-09-22T21:04:00.537Z"
   },
   {
    "duration": 4728,
    "start_time": "2023-09-22T21:04:15.480Z"
   },
   {
    "duration": 4592,
    "start_time": "2023-09-22T21:04:30.802Z"
   },
   {
    "duration": 5,
    "start_time": "2023-09-22T21:07:05.416Z"
   },
   {
    "duration": 4,
    "start_time": "2023-09-22T21:07:26.839Z"
   },
   {
    "duration": 38,
    "start_time": "2023-09-22T21:08:12.541Z"
   },
   {
    "duration": 4,
    "start_time": "2023-09-22T21:08:13.628Z"
   },
   {
    "duration": 1707,
    "start_time": "2023-09-22T21:33:05.792Z"
   },
   {
    "duration": 49,
    "start_time": "2023-09-22T21:33:07.501Z"
   },
   {
    "duration": 22,
    "start_time": "2023-09-22T21:33:07.552Z"
   },
   {
    "duration": 46,
    "start_time": "2023-09-22T21:33:07.577Z"
   },
   {
    "duration": 34,
    "start_time": "2023-09-22T21:33:07.624Z"
   },
   {
    "duration": 6,
    "start_time": "2023-09-22T21:33:07.659Z"
   },
   {
    "duration": 133,
    "start_time": "2023-09-22T21:33:07.666Z"
   },
   {
    "duration": 24,
    "start_time": "2023-09-22T21:33:07.803Z"
   },
   {
    "duration": 394,
    "start_time": "2023-09-22T21:33:07.828Z"
   },
   {
    "duration": 10,
    "start_time": "2023-09-22T21:33:08.234Z"
   },
   {
    "duration": 32,
    "start_time": "2023-09-22T21:33:08.245Z"
   },
   {
    "duration": 10,
    "start_time": "2023-09-22T21:33:08.278Z"
   },
   {
    "duration": 52,
    "start_time": "2023-09-22T21:33:08.290Z"
   },
   {
    "duration": 328,
    "start_time": "2023-09-22T21:33:08.344Z"
   },
   {
    "duration": 206,
    "start_time": "2023-09-22T21:33:08.674Z"
   },
   {
    "duration": 5,
    "start_time": "2023-09-22T21:33:08.882Z"
   },
   {
    "duration": 863,
    "start_time": "2023-09-22T21:33:08.903Z"
   },
   {
    "duration": 4503,
    "start_time": "2023-09-22T21:33:09.769Z"
   },
   {
    "duration": 6,
    "start_time": "2023-09-22T21:33:14.274Z"
   },
   {
    "duration": 85,
    "start_time": "2023-09-22T21:33:14.282Z"
   },
   {
    "duration": 4,
    "start_time": "2023-09-22T21:33:14.369Z"
   },
   {
    "duration": 21,
    "start_time": "2023-09-22T21:33:14.375Z"
   },
   {
    "duration": 28,
    "start_time": "2023-09-22T21:33:14.398Z"
   },
   {
    "duration": 23,
    "start_time": "2023-09-22T21:33:14.428Z"
   },
   {
    "duration": 15,
    "start_time": "2023-09-22T21:33:14.453Z"
   },
   {
    "duration": 4,
    "start_time": "2023-09-22T21:41:01.137Z"
   },
   {
    "duration": 4,
    "start_time": "2023-09-22T21:41:21.250Z"
   },
   {
    "duration": 13,
    "start_time": "2023-09-22T21:41:29.661Z"
   },
   {
    "duration": 5,
    "start_time": "2023-09-22T21:41:35.856Z"
   },
   {
    "duration": 111,
    "start_time": "2023-09-22T21:42:53.548Z"
   },
   {
    "duration": 24,
    "start_time": "2023-09-22T21:44:59.293Z"
   },
   {
    "duration": 113,
    "start_time": "2023-09-22T21:50:09.541Z"
   },
   {
    "duration": 4,
    "start_time": "2023-09-22T21:50:27.248Z"
   },
   {
    "duration": 169,
    "start_time": "2023-09-22T21:53:42.920Z"
   },
   {
    "duration": 90,
    "start_time": "2023-09-22T21:54:52.602Z"
   },
   {
    "duration": 6,
    "start_time": "2023-09-22T21:56:05.588Z"
   },
   {
    "duration": 6,
    "start_time": "2023-09-22T21:56:20.654Z"
   },
   {
    "duration": 4,
    "start_time": "2023-09-22T21:56:28.061Z"
   },
   {
    "duration": 1459,
    "start_time": "2023-09-22T21:57:12.161Z"
   },
   {
    "duration": 30,
    "start_time": "2023-09-22T21:57:13.622Z"
   },
   {
    "duration": 17,
    "start_time": "2023-09-22T21:57:13.654Z"
   },
   {
    "duration": 27,
    "start_time": "2023-09-22T21:57:13.673Z"
   },
   {
    "duration": 38,
    "start_time": "2023-09-22T21:57:13.701Z"
   },
   {
    "duration": 14,
    "start_time": "2023-09-22T21:57:13.741Z"
   },
   {
    "duration": 114,
    "start_time": "2023-09-22T21:57:13.757Z"
   },
   {
    "duration": 9,
    "start_time": "2023-09-22T21:57:13.873Z"
   },
   {
    "duration": 384,
    "start_time": "2023-09-22T21:57:13.884Z"
   },
   {
    "duration": 3,
    "start_time": "2023-09-22T21:57:14.271Z"
   },
   {
    "duration": 13,
    "start_time": "2023-09-22T21:57:14.276Z"
   },
   {
    "duration": 19,
    "start_time": "2023-09-22T21:57:14.291Z"
   },
   {
    "duration": 10,
    "start_time": "2023-09-22T21:57:14.311Z"
   },
   {
    "duration": 280,
    "start_time": "2023-09-22T21:57:14.323Z"
   },
   {
    "duration": 205,
    "start_time": "2023-09-22T21:57:14.606Z"
   },
   {
    "duration": 3,
    "start_time": "2023-09-22T21:57:14.813Z"
   },
   {
    "duration": 797,
    "start_time": "2023-09-22T21:57:14.817Z"
   },
   {
    "duration": 3718,
    "start_time": "2023-09-22T21:57:15.616Z"
   },
   {
    "duration": 4,
    "start_time": "2023-09-22T21:57:19.337Z"
   },
   {
    "duration": 59,
    "start_time": "2023-09-22T21:57:19.343Z"
   },
   {
    "duration": 4,
    "start_time": "2023-09-22T21:57:19.404Z"
   },
   {
    "duration": 107,
    "start_time": "2023-09-22T21:57:19.409Z"
   },
   {
    "duration": 62,
    "start_time": "2023-09-22T21:57:19.517Z"
   },
   {
    "duration": 8,
    "start_time": "2023-09-22T21:57:52.181Z"
   },
   {
    "duration": 8,
    "start_time": "2023-09-22T22:00:45.631Z"
   },
   {
    "duration": 11,
    "start_time": "2023-09-22T22:01:04.379Z"
   },
   {
    "duration": 10,
    "start_time": "2023-09-22T22:02:25.051Z"
   },
   {
    "duration": 3,
    "start_time": "2023-09-22T22:12:30.344Z"
   },
   {
    "duration": 4,
    "start_time": "2023-09-22T22:12:32.432Z"
   },
   {
    "duration": 5,
    "start_time": "2023-09-22T22:15:04.553Z"
   },
   {
    "duration": 85,
    "start_time": "2023-09-22T22:21:40.163Z"
   },
   {
    "duration": 101,
    "start_time": "2023-09-22T22:21:44.821Z"
   },
   {
    "duration": 105,
    "start_time": "2023-09-22T22:21:56.124Z"
   },
   {
    "duration": 5,
    "start_time": "2023-09-22T22:22:02.522Z"
   },
   {
    "duration": 6,
    "start_time": "2023-09-22T22:22:54.452Z"
   },
   {
    "duration": 6,
    "start_time": "2023-09-22T22:25:11.173Z"
   },
   {
    "duration": 7,
    "start_time": "2023-09-22T22:26:48.910Z"
   },
   {
    "duration": 5,
    "start_time": "2023-09-22T22:26:54.386Z"
   },
   {
    "duration": 6,
    "start_time": "2023-09-22T22:42:38.385Z"
   },
   {
    "duration": 6,
    "start_time": "2023-09-22T22:42:39.717Z"
   },
   {
    "duration": 6,
    "start_time": "2023-09-22T22:42:40.196Z"
   },
   {
    "duration": 5,
    "start_time": "2023-09-22T22:42:40.611Z"
   },
   {
    "duration": 5,
    "start_time": "2023-09-22T22:42:40.936Z"
   },
   {
    "duration": 6,
    "start_time": "2023-09-22T22:42:41.192Z"
   },
   {
    "duration": 5,
    "start_time": "2023-09-22T22:42:41.396Z"
   },
   {
    "duration": 6,
    "start_time": "2023-09-22T22:42:41.588Z"
   },
   {
    "duration": 8,
    "start_time": "2023-09-22T22:42:41.761Z"
   },
   {
    "duration": 6,
    "start_time": "2023-09-22T22:42:42.245Z"
   },
   {
    "duration": 6,
    "start_time": "2023-09-22T22:42:42.472Z"
   },
   {
    "duration": 5,
    "start_time": "2023-09-22T22:42:42.684Z"
   },
   {
    "duration": 6,
    "start_time": "2023-09-22T22:42:42.911Z"
   },
   {
    "duration": 6,
    "start_time": "2023-09-22T22:42:43.102Z"
   },
   {
    "duration": 6,
    "start_time": "2023-09-22T22:42:43.297Z"
   },
   {
    "duration": 7,
    "start_time": "2023-09-22T22:42:43.523Z"
   },
   {
    "duration": 6,
    "start_time": "2023-09-22T22:42:43.706Z"
   },
   {
    "duration": 6,
    "start_time": "2023-09-22T22:42:44.080Z"
   },
   {
    "duration": 5,
    "start_time": "2023-09-22T22:42:44.334Z"
   },
   {
    "duration": 7,
    "start_time": "2023-09-22T22:42:44.527Z"
   },
   {
    "duration": 5,
    "start_time": "2023-09-22T22:42:44.754Z"
   },
   {
    "duration": 5,
    "start_time": "2023-09-22T22:42:44.950Z"
   },
   {
    "duration": 5,
    "start_time": "2023-09-22T22:43:07.475Z"
   },
   {
    "duration": 7,
    "start_time": "2023-09-22T22:46:18.792Z"
   },
   {
    "duration": 5,
    "start_time": "2023-09-22T22:46:56.211Z"
   },
   {
    "duration": 6,
    "start_time": "2023-09-22T22:47:09.653Z"
   },
   {
    "duration": 3,
    "start_time": "2023-09-22T22:47:37.506Z"
   },
   {
    "duration": 1452,
    "start_time": "2023-09-22T23:01:42.001Z"
   },
   {
    "duration": 30,
    "start_time": "2023-09-22T23:01:43.456Z"
   },
   {
    "duration": 18,
    "start_time": "2023-09-22T23:01:43.488Z"
   },
   {
    "duration": 13,
    "start_time": "2023-09-22T23:01:43.508Z"
   },
   {
    "duration": 54,
    "start_time": "2023-09-22T23:01:43.523Z"
   },
   {
    "duration": 5,
    "start_time": "2023-09-22T23:01:43.578Z"
   },
   {
    "duration": 110,
    "start_time": "2023-09-22T23:01:43.585Z"
   },
   {
    "duration": 12,
    "start_time": "2023-09-22T23:01:43.696Z"
   },
   {
    "duration": 385,
    "start_time": "2023-09-22T23:01:43.710Z"
   },
   {
    "duration": 4,
    "start_time": "2023-09-22T23:01:44.101Z"
   },
   {
    "duration": 9,
    "start_time": "2023-09-22T23:01:44.107Z"
   },
   {
    "duration": 46,
    "start_time": "2023-09-22T23:01:44.118Z"
   },
   {
    "duration": 66,
    "start_time": "2023-09-22T23:01:44.167Z"
   },
   {
    "duration": 267,
    "start_time": "2023-09-22T23:01:44.235Z"
   },
   {
    "duration": 253,
    "start_time": "2023-09-22T23:01:44.504Z"
   },
   {
    "duration": 5,
    "start_time": "2023-09-22T23:01:44.759Z"
   },
   {
    "duration": 684,
    "start_time": "2023-09-22T23:01:44.766Z"
   },
   {
    "duration": 3782,
    "start_time": "2023-09-22T23:01:45.452Z"
   },
   {
    "duration": 4,
    "start_time": "2023-09-22T23:01:49.235Z"
   },
   {
    "duration": 39,
    "start_time": "2023-09-22T23:01:49.241Z"
   },
   {
    "duration": 20,
    "start_time": "2023-09-22T23:01:49.282Z"
   },
   {
    "duration": 13,
    "start_time": "2023-09-22T23:01:49.304Z"
   },
   {
    "duration": 4,
    "start_time": "2023-09-22T23:01:49.319Z"
   },
   {
    "duration": 10,
    "start_time": "2023-09-22T23:01:49.325Z"
   },
   {
    "duration": 4,
    "start_time": "2023-09-22T23:01:49.337Z"
   },
   {
    "duration": 129,
    "start_time": "2023-09-22T23:01:49.343Z"
   },
   {
    "duration": 27,
    "start_time": "2023-09-22T23:01:49.474Z"
   },
   {
    "duration": 7,
    "start_time": "2023-09-22T23:01:49.505Z"
   },
   {
    "duration": 11,
    "start_time": "2023-09-22T23:01:49.514Z"
   },
   {
    "duration": 1695,
    "start_time": "2023-09-22T23:06:12.201Z"
   },
   {
    "duration": 31,
    "start_time": "2023-09-22T23:06:13.897Z"
   },
   {
    "duration": 16,
    "start_time": "2023-09-22T23:06:13.930Z"
   },
   {
    "duration": 11,
    "start_time": "2023-09-22T23:06:13.948Z"
   },
   {
    "duration": 38,
    "start_time": "2023-09-22T23:06:13.961Z"
   },
   {
    "duration": 5,
    "start_time": "2023-09-22T23:06:14.001Z"
   },
   {
    "duration": 149,
    "start_time": "2023-09-22T23:06:14.008Z"
   },
   {
    "duration": 11,
    "start_time": "2023-09-22T23:06:14.159Z"
   },
   {
    "duration": 495,
    "start_time": "2023-09-22T23:06:14.171Z"
   },
   {
    "duration": 4,
    "start_time": "2023-09-22T23:06:14.669Z"
   },
   {
    "duration": 73,
    "start_time": "2023-09-22T23:06:14.675Z"
   },
   {
    "duration": 20,
    "start_time": "2023-09-22T23:06:14.750Z"
   },
   {
    "duration": 45,
    "start_time": "2023-09-22T23:06:14.771Z"
   },
   {
    "duration": 264,
    "start_time": "2023-09-22T23:06:14.818Z"
   },
   {
    "duration": 171,
    "start_time": "2023-09-22T23:06:15.083Z"
   },
   {
    "duration": 3,
    "start_time": "2023-09-22T23:06:15.256Z"
   },
   {
    "duration": 677,
    "start_time": "2023-09-22T23:06:15.261Z"
   },
   {
    "duration": 3781,
    "start_time": "2023-09-22T23:06:15.940Z"
   },
   {
    "duration": 4,
    "start_time": "2023-09-22T23:06:19.723Z"
   },
   {
    "duration": 51,
    "start_time": "2023-09-22T23:06:19.730Z"
   },
   {
    "duration": 3,
    "start_time": "2023-09-22T23:06:19.782Z"
   },
   {
    "duration": 21,
    "start_time": "2023-09-22T23:06:19.787Z"
   },
   {
    "duration": 4,
    "start_time": "2023-09-22T23:06:19.810Z"
   },
   {
    "duration": 32,
    "start_time": "2023-09-22T23:06:19.815Z"
   },
   {
    "duration": 15,
    "start_time": "2023-09-22T23:06:19.849Z"
   },
   {
    "duration": 117,
    "start_time": "2023-09-22T23:06:19.865Z"
   },
   {
    "duration": 18,
    "start_time": "2023-09-22T23:06:19.984Z"
   },
   {
    "duration": 6,
    "start_time": "2023-09-22T23:06:20.005Z"
   },
   {
    "duration": 11,
    "start_time": "2023-09-22T23:06:20.013Z"
   },
   {
    "duration": 1637,
    "start_time": "2023-09-23T08:06:25.065Z"
   },
   {
    "duration": 112,
    "start_time": "2023-09-23T08:06:26.704Z"
   },
   {
    "duration": 16,
    "start_time": "2023-09-23T08:06:26.818Z"
   },
   {
    "duration": 12,
    "start_time": "2023-09-23T08:06:26.836Z"
   },
   {
    "duration": 49,
    "start_time": "2023-09-23T08:06:26.850Z"
   },
   {
    "duration": 6,
    "start_time": "2023-09-23T08:06:26.901Z"
   },
   {
    "duration": 119,
    "start_time": "2023-09-23T08:06:26.908Z"
   },
   {
    "duration": 11,
    "start_time": "2023-09-23T08:06:27.029Z"
   },
   {
    "duration": 420,
    "start_time": "2023-09-23T08:06:27.042Z"
   },
   {
    "duration": 4,
    "start_time": "2023-09-23T08:06:27.465Z"
   },
   {
    "duration": 38,
    "start_time": "2023-09-23T08:06:27.470Z"
   },
   {
    "duration": 5,
    "start_time": "2023-09-23T08:06:27.509Z"
   },
   {
    "duration": 7,
    "start_time": "2023-09-23T08:06:27.515Z"
   },
   {
    "duration": 282,
    "start_time": "2023-09-23T08:06:27.524Z"
   },
   {
    "duration": 191,
    "start_time": "2023-09-23T08:06:27.808Z"
   },
   {
    "duration": 3,
    "start_time": "2023-09-23T08:06:28.001Z"
   },
   {
    "duration": 777,
    "start_time": "2023-09-23T08:06:28.005Z"
   },
   {
    "duration": 4030,
    "start_time": "2023-09-23T08:06:28.784Z"
   },
   {
    "duration": 15,
    "start_time": "2023-09-23T08:06:32.816Z"
   },
   {
    "duration": 42,
    "start_time": "2023-09-23T08:06:32.833Z"
   },
   {
    "duration": 3,
    "start_time": "2023-09-23T08:06:32.877Z"
   },
   {
    "duration": 16,
    "start_time": "2023-09-23T08:06:32.881Z"
   },
   {
    "duration": 29,
    "start_time": "2023-09-23T08:06:32.898Z"
   },
   {
    "duration": 12,
    "start_time": "2023-09-23T08:06:32.929Z"
   },
   {
    "duration": 4,
    "start_time": "2023-09-23T08:06:32.944Z"
   },
   {
    "duration": 176,
    "start_time": "2023-09-23T08:06:32.950Z"
   },
   {
    "duration": 15,
    "start_time": "2023-09-23T08:06:33.128Z"
   },
   {
    "duration": 7,
    "start_time": "2023-09-23T08:06:33.148Z"
   },
   {
    "duration": 7,
    "start_time": "2023-09-23T08:06:33.157Z"
   },
   {
    "duration": 145,
    "start_time": "2023-09-23T08:16:25.225Z"
   },
   {
    "duration": 182,
    "start_time": "2023-09-23T08:16:28.670Z"
   },
   {
    "duration": 151,
    "start_time": "2023-09-23T08:16:44.069Z"
   },
   {
    "duration": 268,
    "start_time": "2023-09-23T08:24:28.019Z"
   },
   {
    "duration": 176,
    "start_time": "2023-09-23T08:24:43.959Z"
   },
   {
    "duration": 3,
    "start_time": "2023-09-23T08:24:51.963Z"
   },
   {
    "duration": 3799,
    "start_time": "2023-09-23T08:26:57.616Z"
   },
   {
    "duration": 5,
    "start_time": "2023-09-23T08:27:15.010Z"
   },
   {
    "duration": 62,
    "start_time": "2023-09-23T08:27:36.874Z"
   },
   {
    "duration": 3,
    "start_time": "2023-09-23T08:27:40.102Z"
   },
   {
    "duration": 17,
    "start_time": "2023-09-23T08:27:54.895Z"
   },
   {
    "duration": 5,
    "start_time": "2023-09-23T08:27:56.866Z"
   },
   {
    "duration": 181,
    "start_time": "2023-09-23T08:28:19.379Z"
   },
   {
    "duration": 18,
    "start_time": "2023-09-23T08:28:21.137Z"
   },
   {
    "duration": 23,
    "start_time": "2023-09-23T08:28:25.753Z"
   },
   {
    "duration": 1595,
    "start_time": "2023-09-23T08:28:37.586Z"
   },
   {
    "duration": 31,
    "start_time": "2023-09-23T08:28:39.183Z"
   },
   {
    "duration": 20,
    "start_time": "2023-09-23T08:28:39.215Z"
   },
   {
    "duration": 16,
    "start_time": "2023-09-23T08:28:39.238Z"
   },
   {
    "duration": 40,
    "start_time": "2023-09-23T08:28:39.256Z"
   },
   {
    "duration": 16,
    "start_time": "2023-09-23T08:28:39.298Z"
   },
   {
    "duration": 167,
    "start_time": "2023-09-23T08:28:39.315Z"
   },
   {
    "duration": 10,
    "start_time": "2023-09-23T08:28:39.484Z"
   },
   {
    "duration": 423,
    "start_time": "2023-09-23T08:28:39.495Z"
   },
   {
    "duration": 5,
    "start_time": "2023-09-23T08:28:39.923Z"
   },
   {
    "duration": 24,
    "start_time": "2023-09-23T08:28:39.931Z"
   },
   {
    "duration": 5,
    "start_time": "2023-09-23T08:28:39.957Z"
   },
   {
    "duration": 18,
    "start_time": "2023-09-23T08:28:39.963Z"
   },
   {
    "duration": 147,
    "start_time": "2023-09-23T08:28:39.983Z"
   },
   {
    "duration": 0,
    "start_time": "2023-09-23T08:28:40.132Z"
   },
   {
    "duration": 0,
    "start_time": "2023-09-23T08:28:40.134Z"
   },
   {
    "duration": 0,
    "start_time": "2023-09-23T08:28:40.135Z"
   },
   {
    "duration": 0,
    "start_time": "2023-09-23T08:28:40.137Z"
   },
   {
    "duration": 0,
    "start_time": "2023-09-23T08:28:40.138Z"
   },
   {
    "duration": 0,
    "start_time": "2023-09-23T08:28:40.139Z"
   },
   {
    "duration": 0,
    "start_time": "2023-09-23T08:28:40.141Z"
   },
   {
    "duration": 0,
    "start_time": "2023-09-23T08:28:40.142Z"
   },
   {
    "duration": 0,
    "start_time": "2023-09-23T08:28:40.144Z"
   },
   {
    "duration": 0,
    "start_time": "2023-09-23T08:28:40.146Z"
   },
   {
    "duration": 0,
    "start_time": "2023-09-23T08:28:40.147Z"
   },
   {
    "duration": 0,
    "start_time": "2023-09-23T08:28:40.149Z"
   },
   {
    "duration": 0,
    "start_time": "2023-09-23T08:28:40.152Z"
   },
   {
    "duration": 0,
    "start_time": "2023-09-23T08:28:40.153Z"
   },
   {
    "duration": 0,
    "start_time": "2023-09-23T08:28:40.155Z"
   },
   {
    "duration": 1477,
    "start_time": "2023-09-23T08:29:10.470Z"
   },
   {
    "duration": 31,
    "start_time": "2023-09-23T08:29:11.949Z"
   },
   {
    "duration": 49,
    "start_time": "2023-09-23T08:29:11.982Z"
   },
   {
    "duration": 67,
    "start_time": "2023-09-23T08:29:12.034Z"
   },
   {
    "duration": 52,
    "start_time": "2023-09-23T08:29:12.103Z"
   },
   {
    "duration": 7,
    "start_time": "2023-09-23T08:29:12.157Z"
   },
   {
    "duration": 134,
    "start_time": "2023-09-23T08:29:12.166Z"
   },
   {
    "duration": 10,
    "start_time": "2023-09-23T08:29:12.302Z"
   },
   {
    "duration": 358,
    "start_time": "2023-09-23T08:29:12.324Z"
   },
   {
    "duration": 4,
    "start_time": "2023-09-23T08:29:12.685Z"
   },
   {
    "duration": 18,
    "start_time": "2023-09-23T08:29:12.690Z"
   },
   {
    "duration": 11,
    "start_time": "2023-09-23T08:29:12.709Z"
   },
   {
    "duration": 27,
    "start_time": "2023-09-23T08:29:12.722Z"
   },
   {
    "duration": 120,
    "start_time": "2023-09-23T08:29:12.751Z"
   },
   {
    "duration": 0,
    "start_time": "2023-09-23T08:29:12.872Z"
   },
   {
    "duration": 0,
    "start_time": "2023-09-23T08:29:12.873Z"
   },
   {
    "duration": 0,
    "start_time": "2023-09-23T08:29:12.875Z"
   },
   {
    "duration": 0,
    "start_time": "2023-09-23T08:29:12.876Z"
   },
   {
    "duration": 0,
    "start_time": "2023-09-23T08:29:12.878Z"
   },
   {
    "duration": 0,
    "start_time": "2023-09-23T08:29:12.879Z"
   },
   {
    "duration": 0,
    "start_time": "2023-09-23T08:29:12.881Z"
   },
   {
    "duration": 0,
    "start_time": "2023-09-23T08:29:12.882Z"
   },
   {
    "duration": 0,
    "start_time": "2023-09-23T08:29:12.883Z"
   },
   {
    "duration": 0,
    "start_time": "2023-09-23T08:29:12.885Z"
   },
   {
    "duration": 0,
    "start_time": "2023-09-23T08:29:12.886Z"
   },
   {
    "duration": 0,
    "start_time": "2023-09-23T08:29:12.888Z"
   },
   {
    "duration": 0,
    "start_time": "2023-09-23T08:29:12.889Z"
   },
   {
    "duration": 0,
    "start_time": "2023-09-23T08:29:12.893Z"
   },
   {
    "duration": 0,
    "start_time": "2023-09-23T08:29:12.925Z"
   },
   {
    "duration": 287,
    "start_time": "2023-09-23T08:29:39.562Z"
   },
   {
    "duration": 1592,
    "start_time": "2023-09-23T08:29:45.450Z"
   },
   {
    "duration": 31,
    "start_time": "2023-09-23T08:29:47.045Z"
   },
   {
    "duration": 26,
    "start_time": "2023-09-23T08:29:47.077Z"
   },
   {
    "duration": 12,
    "start_time": "2023-09-23T08:29:47.105Z"
   },
   {
    "duration": 32,
    "start_time": "2023-09-23T08:29:47.118Z"
   },
   {
    "duration": 7,
    "start_time": "2023-09-23T08:29:47.152Z"
   },
   {
    "duration": 145,
    "start_time": "2023-09-23T08:29:47.161Z"
   },
   {
    "duration": 19,
    "start_time": "2023-09-23T08:29:47.307Z"
   },
   {
    "duration": 384,
    "start_time": "2023-09-23T08:29:47.328Z"
   },
   {
    "duration": 9,
    "start_time": "2023-09-23T08:29:47.715Z"
   },
   {
    "duration": 16,
    "start_time": "2023-09-23T08:29:47.726Z"
   },
   {
    "duration": 25,
    "start_time": "2023-09-23T08:29:47.744Z"
   },
   {
    "duration": 24,
    "start_time": "2023-09-23T08:29:47.771Z"
   },
   {
    "duration": 269,
    "start_time": "2023-09-23T08:29:47.796Z"
   },
   {
    "duration": 204,
    "start_time": "2023-09-23T08:29:48.067Z"
   },
   {
    "duration": 3,
    "start_time": "2023-09-23T08:29:48.273Z"
   },
   {
    "duration": 760,
    "start_time": "2023-09-23T08:29:48.278Z"
   },
   {
    "duration": 155,
    "start_time": "2023-09-23T08:29:49.040Z"
   },
   {
    "duration": 0,
    "start_time": "2023-09-23T08:29:49.197Z"
   },
   {
    "duration": 0,
    "start_time": "2023-09-23T08:29:49.198Z"
   },
   {
    "duration": 0,
    "start_time": "2023-09-23T08:29:49.199Z"
   },
   {
    "duration": 0,
    "start_time": "2023-09-23T08:29:49.200Z"
   },
   {
    "duration": 0,
    "start_time": "2023-09-23T08:29:49.202Z"
   },
   {
    "duration": 0,
    "start_time": "2023-09-23T08:29:49.203Z"
   },
   {
    "duration": 0,
    "start_time": "2023-09-23T08:29:49.204Z"
   },
   {
    "duration": 0,
    "start_time": "2023-09-23T08:29:49.205Z"
   },
   {
    "duration": 0,
    "start_time": "2023-09-23T08:29:49.226Z"
   },
   {
    "duration": 0,
    "start_time": "2023-09-23T08:29:49.228Z"
   },
   {
    "duration": 0,
    "start_time": "2023-09-23T08:29:49.229Z"
   },
   {
    "duration": 3944,
    "start_time": "2023-09-23T08:32:54.567Z"
   },
   {
    "duration": 1499,
    "start_time": "2023-09-23T08:38:18.514Z"
   },
   {
    "duration": 30,
    "start_time": "2023-09-23T08:38:20.015Z"
   },
   {
    "duration": 16,
    "start_time": "2023-09-23T08:38:20.046Z"
   },
   {
    "duration": 15,
    "start_time": "2023-09-23T08:38:20.064Z"
   },
   {
    "duration": 23,
    "start_time": "2023-09-23T08:38:20.081Z"
   },
   {
    "duration": 6,
    "start_time": "2023-09-23T08:38:20.106Z"
   },
   {
    "duration": 108,
    "start_time": "2023-09-23T08:38:20.123Z"
   },
   {
    "duration": 10,
    "start_time": "2023-09-23T08:38:20.233Z"
   },
   {
    "duration": 366,
    "start_time": "2023-09-23T08:38:20.245Z"
   },
   {
    "duration": 4,
    "start_time": "2023-09-23T08:38:20.613Z"
   },
   {
    "duration": 62,
    "start_time": "2023-09-23T08:38:20.623Z"
   },
   {
    "duration": 26,
    "start_time": "2023-09-23T08:38:20.686Z"
   },
   {
    "duration": 15,
    "start_time": "2023-09-23T08:38:20.713Z"
   },
   {
    "duration": 307,
    "start_time": "2023-09-23T08:38:20.730Z"
   },
   {
    "duration": 161,
    "start_time": "2023-09-23T08:38:21.039Z"
   },
   {
    "duration": 3,
    "start_time": "2023-09-23T08:38:21.202Z"
   },
   {
    "duration": 791,
    "start_time": "2023-09-23T08:38:21.207Z"
   },
   {
    "duration": 3648,
    "start_time": "2023-09-23T08:38:21.999Z"
   },
   {
    "duration": 4,
    "start_time": "2023-09-23T08:38:25.649Z"
   },
   {
    "duration": 42,
    "start_time": "2023-09-23T08:38:25.654Z"
   },
   {
    "duration": 3,
    "start_time": "2023-09-23T08:38:25.698Z"
   },
   {
    "duration": 51,
    "start_time": "2023-09-23T08:38:25.702Z"
   },
   {
    "duration": 55,
    "start_time": "2023-09-23T08:38:25.756Z"
   },
   {
    "duration": 47,
    "start_time": "2023-09-23T08:38:25.813Z"
   },
   {
    "duration": 56,
    "start_time": "2023-09-23T08:38:25.862Z"
   },
   {
    "duration": 336,
    "start_time": "2023-09-23T08:38:25.921Z"
   },
   {
    "duration": 13,
    "start_time": "2023-09-23T08:38:26.259Z"
   },
   {
    "duration": 9,
    "start_time": "2023-09-23T08:38:26.275Z"
   },
   {
    "duration": 1750,
    "start_time": "2023-09-23T11:55:50.216Z"
   },
   {
    "duration": 123,
    "start_time": "2023-09-23T11:55:51.968Z"
   },
   {
    "duration": 19,
    "start_time": "2023-09-23T11:55:52.092Z"
   },
   {
    "duration": 27,
    "start_time": "2023-09-23T11:55:52.114Z"
   },
   {
    "duration": 37,
    "start_time": "2023-09-23T11:55:52.143Z"
   },
   {
    "duration": 13,
    "start_time": "2023-09-23T11:55:52.182Z"
   },
   {
    "duration": 132,
    "start_time": "2023-09-23T11:55:52.196Z"
   },
   {
    "duration": 19,
    "start_time": "2023-09-23T11:55:52.329Z"
   },
   {
    "duration": 442,
    "start_time": "2023-09-23T11:55:52.349Z"
   },
   {
    "duration": 3,
    "start_time": "2023-09-23T11:55:52.794Z"
   },
   {
    "duration": 17,
    "start_time": "2023-09-23T11:55:52.799Z"
   },
   {
    "duration": 14,
    "start_time": "2023-09-23T11:55:52.818Z"
   },
   {
    "duration": 7,
    "start_time": "2023-09-23T11:55:52.834Z"
   },
   {
    "duration": 279,
    "start_time": "2023-09-23T11:55:52.843Z"
   },
   {
    "duration": 181,
    "start_time": "2023-09-23T11:55:53.124Z"
   },
   {
    "duration": 3,
    "start_time": "2023-09-23T11:55:53.307Z"
   },
   {
    "duration": 837,
    "start_time": "2023-09-23T11:55:53.312Z"
   },
   {
    "duration": 4175,
    "start_time": "2023-09-23T11:55:54.151Z"
   },
   {
    "duration": 4,
    "start_time": "2023-09-23T11:55:58.328Z"
   },
   {
    "duration": 39,
    "start_time": "2023-09-23T11:55:58.347Z"
   },
   {
    "duration": 3,
    "start_time": "2023-09-23T11:55:58.388Z"
   },
   {
    "duration": 28,
    "start_time": "2023-09-23T11:55:58.394Z"
   },
   {
    "duration": 6,
    "start_time": "2023-09-23T11:55:58.424Z"
   },
   {
    "duration": 11,
    "start_time": "2023-09-23T11:55:58.446Z"
   },
   {
    "duration": 5,
    "start_time": "2023-09-23T11:55:58.458Z"
   },
   {
    "duration": 175,
    "start_time": "2023-09-23T11:55:58.465Z"
   },
   {
    "duration": 15,
    "start_time": "2023-09-23T11:55:58.647Z"
   },
   {
    "duration": 6,
    "start_time": "2023-09-23T11:55:58.665Z"
   },
   {
    "duration": 4,
    "start_time": "2023-09-23T12:07:29.211Z"
   },
   {
    "duration": 9,
    "start_time": "2023-09-23T12:07:48.485Z"
   },
   {
    "duration": 134,
    "start_time": "2023-09-23T12:11:52.194Z"
   },
   {
    "duration": 14,
    "start_time": "2023-09-23T12:12:11.747Z"
   },
   {
    "duration": 193,
    "start_time": "2023-09-23T12:12:42.004Z"
   },
   {
    "duration": 182,
    "start_time": "2023-09-23T12:13:22.092Z"
   },
   {
    "duration": 183,
    "start_time": "2023-09-23T12:14:57.839Z"
   },
   {
    "duration": 195,
    "start_time": "2023-09-23T12:15:01.180Z"
   },
   {
    "duration": 170,
    "start_time": "2023-09-23T12:15:17.262Z"
   },
   {
    "duration": 177,
    "start_time": "2023-09-23T12:15:24.963Z"
   },
   {
    "duration": 172,
    "start_time": "2023-09-23T12:15:29.261Z"
   },
   {
    "duration": 173,
    "start_time": "2023-09-23T12:15:33.660Z"
   },
   {
    "duration": 1645,
    "start_time": "2023-09-23T12:16:52.360Z"
   },
   {
    "duration": 30,
    "start_time": "2023-09-23T12:16:54.007Z"
   },
   {
    "duration": 24,
    "start_time": "2023-09-23T12:16:54.039Z"
   },
   {
    "duration": 12,
    "start_time": "2023-09-23T12:16:54.066Z"
   },
   {
    "duration": 31,
    "start_time": "2023-09-23T12:16:54.081Z"
   },
   {
    "duration": 8,
    "start_time": "2023-09-23T12:16:54.114Z"
   },
   {
    "duration": 154,
    "start_time": "2023-09-23T12:16:54.124Z"
   },
   {
    "duration": 12,
    "start_time": "2023-09-23T12:16:54.279Z"
   },
   {
    "duration": 428,
    "start_time": "2023-09-23T12:16:54.293Z"
   },
   {
    "duration": 4,
    "start_time": "2023-09-23T12:16:54.723Z"
   },
   {
    "duration": 19,
    "start_time": "2023-09-23T12:16:54.729Z"
   },
   {
    "duration": 9,
    "start_time": "2023-09-23T12:16:54.750Z"
   },
   {
    "duration": 16,
    "start_time": "2023-09-23T12:16:54.761Z"
   },
   {
    "duration": 319,
    "start_time": "2023-09-23T12:16:54.781Z"
   },
   {
    "duration": 238,
    "start_time": "2023-09-23T12:16:55.102Z"
   },
   {
    "duration": 8,
    "start_time": "2023-09-23T12:16:55.343Z"
   },
   {
    "duration": 833,
    "start_time": "2023-09-23T12:16:55.360Z"
   },
   {
    "duration": 4544,
    "start_time": "2023-09-23T12:16:56.194Z"
   },
   {
    "duration": 11,
    "start_time": "2023-09-23T12:17:00.739Z"
   },
   {
    "duration": 68,
    "start_time": "2023-09-23T12:17:00.753Z"
   },
   {
    "duration": 11,
    "start_time": "2023-09-23T12:17:00.822Z"
   },
   {
    "duration": 54,
    "start_time": "2023-09-23T12:17:00.835Z"
   },
   {
    "duration": 43,
    "start_time": "2023-09-23T12:17:00.891Z"
   },
   {
    "duration": 57,
    "start_time": "2023-09-23T12:17:00.936Z"
   },
   {
    "duration": 221,
    "start_time": "2023-09-23T12:17:00.995Z"
   },
   {
    "duration": 5,
    "start_time": "2023-09-23T12:17:01.219Z"
   },
   {
    "duration": 264,
    "start_time": "2023-09-23T12:17:01.225Z"
   },
   {
    "duration": 18,
    "start_time": "2023-09-23T12:17:01.492Z"
   },
   {
    "duration": 207,
    "start_time": "2023-09-23T12:17:01.512Z"
   },
   {
    "duration": 8,
    "start_time": "2023-09-23T12:17:41.266Z"
   },
   {
    "duration": 1628,
    "start_time": "2023-09-23T12:17:47.415Z"
   },
   {
    "duration": 54,
    "start_time": "2023-09-23T12:17:49.045Z"
   },
   {
    "duration": 19,
    "start_time": "2023-09-23T12:17:49.100Z"
   },
   {
    "duration": 15,
    "start_time": "2023-09-23T12:17:49.122Z"
   },
   {
    "duration": 44,
    "start_time": "2023-09-23T12:17:49.140Z"
   },
   {
    "duration": 8,
    "start_time": "2023-09-23T12:17:49.186Z"
   },
   {
    "duration": 136,
    "start_time": "2023-09-23T12:17:49.196Z"
   },
   {
    "duration": 14,
    "start_time": "2023-09-23T12:17:49.334Z"
   },
   {
    "duration": 422,
    "start_time": "2023-09-23T12:17:49.350Z"
   },
   {
    "duration": 6,
    "start_time": "2023-09-23T12:17:49.775Z"
   },
   {
    "duration": 14,
    "start_time": "2023-09-23T12:17:49.783Z"
   },
   {
    "duration": 9,
    "start_time": "2023-09-23T12:17:49.799Z"
   },
   {
    "duration": 6,
    "start_time": "2023-09-23T12:17:49.810Z"
   },
   {
    "duration": 360,
    "start_time": "2023-09-23T12:17:49.818Z"
   },
   {
    "duration": 234,
    "start_time": "2023-09-23T12:17:50.180Z"
   },
   {
    "duration": 5,
    "start_time": "2023-09-23T12:17:50.416Z"
   },
   {
    "duration": 795,
    "start_time": "2023-09-23T12:17:50.423Z"
   },
   {
    "duration": 4596,
    "start_time": "2023-09-23T12:17:51.219Z"
   },
   {
    "duration": 5,
    "start_time": "2023-09-23T12:17:55.817Z"
   },
   {
    "duration": 90,
    "start_time": "2023-09-23T12:17:55.824Z"
   },
   {
    "duration": 4,
    "start_time": "2023-09-23T12:17:55.915Z"
   },
   {
    "duration": 27,
    "start_time": "2023-09-23T12:17:55.921Z"
   },
   {
    "duration": 32,
    "start_time": "2023-09-23T12:17:55.951Z"
   },
   {
    "duration": 63,
    "start_time": "2023-09-23T12:17:55.985Z"
   },
   {
    "duration": 209,
    "start_time": "2023-09-23T12:17:56.050Z"
   },
   {
    "duration": 5,
    "start_time": "2023-09-23T12:17:56.262Z"
   },
   {
    "duration": 193,
    "start_time": "2023-09-23T12:17:56.269Z"
   },
   {
    "duration": 15,
    "start_time": "2023-09-23T12:17:56.466Z"
   },
   {
    "duration": 18,
    "start_time": "2023-09-23T12:17:56.483Z"
   },
   {
    "duration": 1878,
    "start_time": "2023-09-23T12:19:58.837Z"
   },
   {
    "duration": 37,
    "start_time": "2023-09-23T12:20:00.718Z"
   },
   {
    "duration": 45,
    "start_time": "2023-09-23T12:20:00.762Z"
   },
   {
    "duration": 87,
    "start_time": "2023-09-23T12:20:00.810Z"
   },
   {
    "duration": 134,
    "start_time": "2023-09-23T12:20:00.899Z"
   },
   {
    "duration": 130,
    "start_time": "2023-09-23T12:20:01.035Z"
   },
   {
    "duration": 213,
    "start_time": "2023-09-23T12:20:01.168Z"
   },
   {
    "duration": 38,
    "start_time": "2023-09-23T12:20:01.383Z"
   },
   {
    "duration": 554,
    "start_time": "2023-09-23T12:20:01.423Z"
   },
   {
    "duration": 4,
    "start_time": "2023-09-23T12:20:01.981Z"
   },
   {
    "duration": 426,
    "start_time": "2023-09-23T12:20:01.987Z"
   },
   {
    "duration": 654,
    "start_time": "2023-09-23T12:20:02.415Z"
   },
   {
    "duration": 593,
    "start_time": "2023-09-23T12:20:03.071Z"
   },
   {
    "duration": 720,
    "start_time": "2023-09-23T12:20:03.666Z"
   },
   {
    "duration": 213,
    "start_time": "2023-09-23T12:20:04.388Z"
   },
   {
    "duration": 5,
    "start_time": "2023-09-23T12:20:04.604Z"
   },
   {
    "duration": 896,
    "start_time": "2023-09-23T12:20:04.610Z"
   },
   {
    "duration": 4567,
    "start_time": "2023-09-23T12:20:05.508Z"
   },
   {
    "duration": 6,
    "start_time": "2023-09-23T12:20:10.077Z"
   },
   {
    "duration": 70,
    "start_time": "2023-09-23T12:20:10.085Z"
   },
   {
    "duration": 5,
    "start_time": "2023-09-23T12:20:10.158Z"
   },
   {
    "duration": 21,
    "start_time": "2023-09-23T12:20:10.165Z"
   },
   {
    "duration": 11,
    "start_time": "2023-09-23T12:20:10.188Z"
   },
   {
    "duration": 28,
    "start_time": "2023-09-23T12:20:10.201Z"
   },
   {
    "duration": 236,
    "start_time": "2023-09-23T12:20:10.231Z"
   },
   {
    "duration": 5,
    "start_time": "2023-09-23T12:20:10.469Z"
   },
   {
    "duration": 175,
    "start_time": "2023-09-23T12:20:10.476Z"
   },
   {
    "duration": 18,
    "start_time": "2023-09-23T12:20:10.657Z"
   },
   {
    "duration": 6,
    "start_time": "2023-09-23T12:20:10.677Z"
   },
   {
    "duration": 1707,
    "start_time": "2023-09-23T12:20:46.761Z"
   },
   {
    "duration": 31,
    "start_time": "2023-09-23T12:20:48.470Z"
   },
   {
    "duration": 18,
    "start_time": "2023-09-23T12:20:48.503Z"
   },
   {
    "duration": 42,
    "start_time": "2023-09-23T12:20:48.522Z"
   },
   {
    "duration": 48,
    "start_time": "2023-09-23T12:20:48.569Z"
   },
   {
    "duration": 6,
    "start_time": "2023-09-23T12:20:48.619Z"
   },
   {
    "duration": 143,
    "start_time": "2023-09-23T12:20:48.626Z"
   },
   {
    "duration": 10,
    "start_time": "2023-09-23T12:20:48.771Z"
   },
   {
    "duration": 418,
    "start_time": "2023-09-23T12:20:48.783Z"
   },
   {
    "duration": 4,
    "start_time": "2023-09-23T12:20:49.203Z"
   },
   {
    "duration": 19,
    "start_time": "2023-09-23T12:20:49.208Z"
   },
   {
    "duration": 6,
    "start_time": "2023-09-23T12:20:49.229Z"
   },
   {
    "duration": 29,
    "start_time": "2023-09-23T12:20:49.236Z"
   },
   {
    "duration": 314,
    "start_time": "2023-09-23T12:20:49.268Z"
   },
   {
    "duration": 214,
    "start_time": "2023-09-23T12:20:49.585Z"
   },
   {
    "duration": 3,
    "start_time": "2023-09-23T12:20:49.801Z"
   },
   {
    "duration": 808,
    "start_time": "2023-09-23T12:20:49.806Z"
   },
   {
    "duration": 4574,
    "start_time": "2023-09-23T12:20:50.616Z"
   },
   {
    "duration": 6,
    "start_time": "2023-09-23T12:20:55.192Z"
   },
   {
    "duration": 93,
    "start_time": "2023-09-23T12:20:55.200Z"
   },
   {
    "duration": 4,
    "start_time": "2023-09-23T12:20:55.296Z"
   },
   {
    "duration": 48,
    "start_time": "2023-09-23T12:20:55.302Z"
   },
   {
    "duration": 34,
    "start_time": "2023-09-23T12:20:55.353Z"
   },
   {
    "duration": 29,
    "start_time": "2023-09-23T12:20:55.389Z"
   },
   {
    "duration": 224,
    "start_time": "2023-09-23T12:20:55.421Z"
   },
   {
    "duration": 7,
    "start_time": "2023-09-23T12:20:55.648Z"
   },
   {
    "duration": 188,
    "start_time": "2023-09-23T12:20:55.657Z"
   },
   {
    "duration": 22,
    "start_time": "2023-09-23T12:20:55.848Z"
   },
   {
    "duration": 15,
    "start_time": "2023-09-23T12:20:55.872Z"
   },
   {
    "duration": 1661,
    "start_time": "2023-09-23T12:23:29.883Z"
   },
   {
    "duration": 43,
    "start_time": "2023-09-23T12:23:31.547Z"
   },
   {
    "duration": 66,
    "start_time": "2023-09-23T12:23:31.593Z"
   },
   {
    "duration": 53,
    "start_time": "2023-09-23T12:23:31.660Z"
   },
   {
    "duration": 86,
    "start_time": "2023-09-23T12:23:31.716Z"
   },
   {
    "duration": 80,
    "start_time": "2023-09-23T12:23:31.805Z"
   },
   {
    "duration": 170,
    "start_time": "2023-09-23T12:23:31.887Z"
   },
   {
    "duration": 16,
    "start_time": "2023-09-23T12:23:32.063Z"
   },
   {
    "duration": 503,
    "start_time": "2023-09-23T12:23:32.081Z"
   },
   {
    "duration": 5,
    "start_time": "2023-09-23T12:23:32.585Z"
   },
   {
    "duration": 90,
    "start_time": "2023-09-23T12:23:32.592Z"
   },
   {
    "duration": 18,
    "start_time": "2023-09-23T12:23:32.684Z"
   },
   {
    "duration": 43,
    "start_time": "2023-09-23T12:23:32.704Z"
   },
   {
    "duration": 362,
    "start_time": "2023-09-23T12:23:32.751Z"
   },
   {
    "duration": 208,
    "start_time": "2023-09-23T12:23:33.115Z"
   },
   {
    "duration": 4,
    "start_time": "2023-09-23T12:23:33.325Z"
   },
   {
    "duration": 775,
    "start_time": "2023-09-23T12:23:33.331Z"
   },
   {
    "duration": 4557,
    "start_time": "2023-09-23T12:23:34.108Z"
   },
   {
    "duration": 4,
    "start_time": "2023-09-23T12:23:38.667Z"
   },
   {
    "duration": 51,
    "start_time": "2023-09-23T12:23:38.673Z"
   },
   {
    "duration": 4,
    "start_time": "2023-09-23T12:23:38.726Z"
   },
   {
    "duration": 25,
    "start_time": "2023-09-23T12:23:38.746Z"
   },
   {
    "duration": 17,
    "start_time": "2023-09-23T12:23:38.773Z"
   },
   {
    "duration": 16,
    "start_time": "2023-09-23T12:23:38.792Z"
   },
   {
    "duration": 183,
    "start_time": "2023-09-23T12:23:38.809Z"
   },
   {
    "duration": 5,
    "start_time": "2023-09-23T12:23:38.994Z"
   },
   {
    "duration": 193,
    "start_time": "2023-09-23T12:23:39.001Z"
   },
   {
    "duration": 15,
    "start_time": "2023-09-23T12:23:39.196Z"
   },
   {
    "duration": 6,
    "start_time": "2023-09-23T12:23:39.213Z"
   }
  ],
  "kernelspec": {
   "display_name": "Python 3 (ipykernel)",
   "language": "python",
   "name": "python3"
  },
  "language_info": {
   "codemirror_mode": {
    "name": "ipython",
    "version": 3
   },
   "file_extension": ".py",
   "mimetype": "text/x-python",
   "name": "python",
   "nbconvert_exporter": "python",
   "pygments_lexer": "ipython3",
   "version": "3.11.5"
  },
  "toc": {
   "base_numbering": 1,
   "nav_menu": {},
   "number_sections": true,
   "sideBar": true,
   "skip_h1_title": true,
   "title_cell": "Содержание",
   "title_sidebar": "Contents",
   "toc_cell": true,
   "toc_position": {
    "height": "calc(100% - 180px)",
    "left": "10px",
    "top": "150px",
    "width": "294.4px"
   },
   "toc_section_display": true,
   "toc_window_display": true
  }
 },
 "nbformat": 4,
 "nbformat_minor": 2
}
